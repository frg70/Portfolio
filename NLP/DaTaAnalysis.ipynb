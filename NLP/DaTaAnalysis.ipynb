{
  "cells": [
    {
      "cell_type": "markdown",
      "metadata": {
        "id": "th_hXp3wQU0m"
      },
      "source": [
        "# **Clasificador por CV**"
      ]
    },
    {
      "cell_type": "markdown",
      "metadata": {
        "id": "-K5cGveRQab4"
      },
      "source": [
        "## **Librererias y archivos** "
      ]
    },
    {
      "cell_type": "markdown",
      "metadata": {
        "colab": {
          "base_uri": "https://localhost:8080/"
        },
        "id": "_WSF6qNYBi9S",
        "outputId": "7e1f376e-3827-4c10-fdfb-c22ab5710417"
      },
      "source": [
        "1. Importar las librerías "
      ]
    },
    {
      "cell_type": "code",
      "execution_count": 1,
      "metadata": {},
      "outputs": [],
      "source": [
        "import pandas as pd \n",
        "import DataReading\n",
        "import GeneralProfiles\n",
        "import SoftSkills\n",
        "import CleanText\n",
        "from DataReading import *\n",
        "from SoftSkills import *\n",
        "from CleanText import *"
      ]
    },
    {
      "cell_type": "code",
      "execution_count": 2,
      "metadata": {},
      "outputs": [],
      "source": [
        "data = pd.read_csv(r'C:\\Users\\Fernando.DESKTOP-608G9HT\\Documents\\Cosas personales Fer\\Python\\Limpieza de datos\\Database_empleos\\New data\\rawdata.csv')"
      ]
    },
    {
      "cell_type": "code",
      "execution_count": 3,
      "metadata": {
        "colab": {
          "base_uri": "https://localhost:8080/",
          "height": 235
        },
        "id": "XEgaYxnjg8ms",
        "outputId": "b9595ed7-c342-4ed9-ec97-da6714341ec9"
      },
      "outputs": [],
      "source": [
        "#Objeto de clase\n",
        "ObjReadD = DataReading.TransformdataCSV()\n",
        "ObjGeneral = GeneralProfiles.GeneralProfiles()\n",
        "DataSFEN = ObjReadD.ReadContentCSVSFEN()\n",
        "DataMLE = ObjReadD.ReadContentCSVMLE()\n",
        "DataCSE = ObjReadD.ReadContentCSVCSE()\n",
        "DataDSC = ObjReadD.ReadContentCSVDSC()\n",
        "GeneralSFEN = ObjGeneral.GeneralProfileSFEN(DataSFEN)\n",
        "#GeneralMLE = ObjGeneral.GeneralProfileMLEngineer(DataMLE)\n",
        "#GeneralDSC = ObjGeneral.GeneralProfileDSC(DataDSC)"
      ]
    },
    {
      "cell_type": "code",
      "execution_count": 4,
      "metadata": {},
      "outputs": [],
      "source": [
        "ObjSS = SoftSkills.SoftSkill()\n",
        "SoftSFEN = ObjSS.SFENSoftSkills(DataSFEN)"
      ]
    },
    {
      "cell_type": "code",
      "execution_count": 5,
      "metadata": {},
      "outputs": [],
      "source": [
        "ObjC = CleanText()\n",
        "CleanTextSFEN = ObjC.CleaningText(DataSFEN)\n",
        "data = pd.DataFrame(CleanTextSFEN)"
      ]
    },
    {
      "cell_type": "markdown",
      "metadata": {},
      "source": [
        "## **Clasificador**"
      ]
    },
    {
      "cell_type": "markdown",
      "metadata": {},
      "source": [
        "### **Sección de NLP**"
      ]
    },
    {
      "cell_type": "markdown",
      "metadata": {},
      "source": [
        "#### **Vectorización**"
      ]
    },
    {
      "cell_type": "code",
      "execution_count": 6,
      "metadata": {},
      "outputs": [
        {
          "name": "stderr",
          "output_type": "stream",
          "text": [
            "c:\\Users\\Fernando.DESKTOP-608G9HT\\AppData\\Local\\Programs\\Python\\Python310\\lib\\site-packages\\tqdm\\auto.py:22: TqdmWarning: IProgress not found. Please update jupyter and ipywidgets. See https://ipywidgets.readthedocs.io/en/stable/user_install.html\n",
            "  from .autonotebook import tqdm as notebook_tqdm\n"
          ]
        }
      ],
      "source": [
        "from sentence_transformers import SentenceTransformer\n",
        "model = SentenceTransformer('paraphrase-MiniLM-L6-v2')\n",
        "\n",
        "embeddedCandidates = []\n",
        "#Sentences are encoded by calling model.encode()\n",
        "embeddings = model.encode(CleanTextSFEN)\n",
        "#Print the embeddings\n",
        "for sentence, embedding in zip(CleanTextSFEN, embeddings):\n",
        "    embeddedCandidates.append(embedding)"
      ]
    },
    {
      "cell_type": "code",
      "execution_count": 7,
      "metadata": {},
      "outputs": [],
      "source": [
        "df1 = pd.DataFrame(embeddedCandidates)\n",
        "df2 = pd.DataFrame(CleanTextSFEN).rename(columns={0:'Text'})\n",
        "dFinalC = pd.concat([df2,df1], axis = 1)"
      ]
    },
    {
      "cell_type": "code",
      "execution_count": 8,
      "metadata": {},
      "outputs": [
        {
          "data": {
            "text/html": [
              "<div>\n",
              "<style scoped>\n",
              "    .dataframe tbody tr th:only-of-type {\n",
              "        vertical-align: middle;\n",
              "    }\n",
              "\n",
              "    .dataframe tbody tr th {\n",
              "        vertical-align: top;\n",
              "    }\n",
              "\n",
              "    .dataframe thead th {\n",
              "        text-align: right;\n",
              "    }\n",
              "</style>\n",
              "<table border=\"1\" class=\"dataframe\">\n",
              "  <thead>\n",
              "    <tr style=\"text-align: right;\">\n",
              "      <th></th>\n",
              "      <th>Text</th>\n",
              "      <th>0</th>\n",
              "      <th>1</th>\n",
              "      <th>2</th>\n",
              "      <th>3</th>\n",
              "      <th>4</th>\n",
              "      <th>5</th>\n",
              "      <th>6</th>\n",
              "      <th>7</th>\n",
              "      <th>8</th>\n",
              "      <th>...</th>\n",
              "      <th>374</th>\n",
              "      <th>375</th>\n",
              "      <th>376</th>\n",
              "      <th>377</th>\n",
              "      <th>378</th>\n",
              "      <th>379</th>\n",
              "      <th>380</th>\n",
              "      <th>381</th>\n",
              "      <th>382</th>\n",
              "      <th>383</th>\n",
              "    </tr>\n",
              "  </thead>\n",
              "  <tbody>\n",
              "    <tr>\n",
              "      <th>0</th>\n",
              "      <td>Ruth Libowsky (She/Her)Software Engineer at Tr...</td>\n",
              "      <td>0.093439</td>\n",
              "      <td>-0.228814</td>\n",
              "      <td>0.118767</td>\n",
              "      <td>0.029917</td>\n",
              "      <td>0.182106</td>\n",
              "      <td>-0.012936</td>\n",
              "      <td>-0.052146</td>\n",
              "      <td>-0.014484</td>\n",
              "      <td>-0.357501</td>\n",
              "      <td>...</td>\n",
              "      <td>0.152699</td>\n",
              "      <td>0.240190</td>\n",
              "      <td>-0.095608</td>\n",
              "      <td>-0.362179</td>\n",
              "      <td>-0.640039</td>\n",
              "      <td>0.132981</td>\n",
              "      <td>-0.372900</td>\n",
              "      <td>-0.411824</td>\n",
              "      <td>0.231895</td>\n",
              "      <td>0.205617</td>\n",
              "    </tr>\n",
              "    <tr>\n",
              "      <th>1</th>\n",
              "      <td>Kevin JiangSenior Software Engineer at Instaca...</td>\n",
              "      <td>0.065288</td>\n",
              "      <td>-0.100972</td>\n",
              "      <td>0.028757</td>\n",
              "      <td>-0.319070</td>\n",
              "      <td>0.118035</td>\n",
              "      <td>-0.179666</td>\n",
              "      <td>-0.326845</td>\n",
              "      <td>0.062097</td>\n",
              "      <td>-0.213299</td>\n",
              "      <td>...</td>\n",
              "      <td>0.144112</td>\n",
              "      <td>0.188386</td>\n",
              "      <td>-0.144145</td>\n",
              "      <td>-0.429716</td>\n",
              "      <td>-0.642943</td>\n",
              "      <td>-0.074655</td>\n",
              "      <td>-0.263135</td>\n",
              "      <td>-0.280988</td>\n",
              "      <td>0.045374</td>\n",
              "      <td>0.368242</td>\n",
              "    </tr>\n",
              "    <tr>\n",
              "      <th>2</th>\n",
              "      <td>David ByrneSenior Software EngineerInfluxDataY...</td>\n",
              "      <td>-0.157894</td>\n",
              "      <td>-0.354875</td>\n",
              "      <td>-0.338139</td>\n",
              "      <td>-0.234077</td>\n",
              "      <td>0.030602</td>\n",
              "      <td>-0.078039</td>\n",
              "      <td>0.012305</td>\n",
              "      <td>-0.062966</td>\n",
              "      <td>-0.012517</td>\n",
              "      <td>...</td>\n",
              "      <td>0.109654</td>\n",
              "      <td>0.310261</td>\n",
              "      <td>0.233620</td>\n",
              "      <td>-0.563038</td>\n",
              "      <td>-0.379065</td>\n",
              "      <td>0.041764</td>\n",
              "      <td>-0.392358</td>\n",
              "      <td>-0.194671</td>\n",
              "      <td>-0.028193</td>\n",
              "      <td>-0.082761</td>\n",
              "    </tr>\n",
              "    <tr>\n",
              "      <th>3</th>\n",
              "      <td>Amalia HawkinsSoftware EngineerGoogleUniversit...</td>\n",
              "      <td>-0.010509</td>\n",
              "      <td>-0.305916</td>\n",
              "      <td>0.031546</td>\n",
              "      <td>-0.079703</td>\n",
              "      <td>0.117760</td>\n",
              "      <td>-0.096203</td>\n",
              "      <td>-0.379563</td>\n",
              "      <td>0.050066</td>\n",
              "      <td>-0.453905</td>\n",
              "      <td>...</td>\n",
              "      <td>0.119034</td>\n",
              "      <td>0.106255</td>\n",
              "      <td>0.039686</td>\n",
              "      <td>-0.302671</td>\n",
              "      <td>-0.243181</td>\n",
              "      <td>0.220579</td>\n",
              "      <td>-0.089857</td>\n",
              "      <td>-0.175926</td>\n",
              "      <td>0.191244</td>\n",
              "      <td>0.058088</td>\n",
              "    </tr>\n",
              "    <tr>\n",
              "      <th>4</th>\n",
              "      <td>Lester Kim (He/Him)Senior Software Engineer at...</td>\n",
              "      <td>-0.103556</td>\n",
              "      <td>-0.059175</td>\n",
              "      <td>-0.466041</td>\n",
              "      <td>-0.115597</td>\n",
              "      <td>-0.199573</td>\n",
              "      <td>0.148209</td>\n",
              "      <td>-0.051699</td>\n",
              "      <td>0.084350</td>\n",
              "      <td>-0.457870</td>\n",
              "      <td>...</td>\n",
              "      <td>0.344815</td>\n",
              "      <td>0.321481</td>\n",
              "      <td>0.251250</td>\n",
              "      <td>-0.460472</td>\n",
              "      <td>-0.426613</td>\n",
              "      <td>0.037697</td>\n",
              "      <td>-0.315723</td>\n",
              "      <td>-0.368274</td>\n",
              "      <td>-0.036814</td>\n",
              "      <td>0.001106</td>\n",
              "    </tr>\n",
              "    <tr>\n",
              "      <th>...</th>\n",
              "      <td>...</td>\n",
              "      <td>...</td>\n",
              "      <td>...</td>\n",
              "      <td>...</td>\n",
              "      <td>...</td>\n",
              "      <td>...</td>\n",
              "      <td>...</td>\n",
              "      <td>...</td>\n",
              "      <td>...</td>\n",
              "      <td>...</td>\n",
              "      <td>...</td>\n",
              "      <td>...</td>\n",
              "      <td>...</td>\n",
              "      <td>...</td>\n",
              "      <td>...</td>\n",
              "      <td>...</td>\n",
              "      <td>...</td>\n",
              "      <td>...</td>\n",
              "      <td>...</td>\n",
              "      <td>...</td>\n",
              "      <td>...</td>\n",
              "    </tr>\n",
              "    <tr>\n",
              "      <th>397</th>\n",
              "      <td>J. M. M.PetrophysicistCentro Superior de Forma...</td>\n",
              "      <td>-0.064348</td>\n",
              "      <td>0.042672</td>\n",
              "      <td>0.096720</td>\n",
              "      <td>0.145306</td>\n",
              "      <td>0.119732</td>\n",
              "      <td>-0.392934</td>\n",
              "      <td>0.017087</td>\n",
              "      <td>0.102591</td>\n",
              "      <td>-0.003000</td>\n",
              "      <td>...</td>\n",
              "      <td>0.130671</td>\n",
              "      <td>0.161957</td>\n",
              "      <td>0.249268</td>\n",
              "      <td>0.012373</td>\n",
              "      <td>-0.144168</td>\n",
              "      <td>-0.192489</td>\n",
              "      <td>0.127957</td>\n",
              "      <td>0.027583</td>\n",
              "      <td>0.241034</td>\n",
              "      <td>-0.004347</td>\n",
              "    </tr>\n",
              "    <tr>\n",
              "      <th>398</th>\n",
              "      <td>Yael Isay Martinez GutierrezSoftware Developer...</td>\n",
              "      <td>-0.143650</td>\n",
              "      <td>-0.029884</td>\n",
              "      <td>-0.141249</td>\n",
              "      <td>-0.177348</td>\n",
              "      <td>0.333259</td>\n",
              "      <td>-0.179304</td>\n",
              "      <td>-0.026189</td>\n",
              "      <td>0.415083</td>\n",
              "      <td>-0.234613</td>\n",
              "      <td>...</td>\n",
              "      <td>0.288654</td>\n",
              "      <td>0.054762</td>\n",
              "      <td>0.439385</td>\n",
              "      <td>-0.018053</td>\n",
              "      <td>-0.483155</td>\n",
              "      <td>-0.089995</td>\n",
              "      <td>-0.574086</td>\n",
              "      <td>-0.275998</td>\n",
              "      <td>0.192624</td>\n",
              "      <td>0.111531</td>\n",
              "    </tr>\n",
              "    <tr>\n",
              "      <th>399</th>\n",
              "      <td>Tane tiene una cuenta premiumHaz clic para abo...</td>\n",
              "      <td>-0.190893</td>\n",
              "      <td>0.077657</td>\n",
              "      <td>-0.573271</td>\n",
              "      <td>-0.468546</td>\n",
              "      <td>0.205008</td>\n",
              "      <td>-0.219027</td>\n",
              "      <td>0.147430</td>\n",
              "      <td>0.056727</td>\n",
              "      <td>-0.187177</td>\n",
              "      <td>...</td>\n",
              "      <td>0.013111</td>\n",
              "      <td>0.071266</td>\n",
              "      <td>0.490488</td>\n",
              "      <td>-0.077976</td>\n",
              "      <td>-0.089267</td>\n",
              "      <td>0.380225</td>\n",
              "      <td>-0.177733</td>\n",
              "      <td>-0.349615</td>\n",
              "      <td>0.084287</td>\n",
              "      <td>0.424485</td>\n",
              "    </tr>\n",
              "    <tr>\n",
              "      <th>400</th>\n",
              "      <td>Javier AlbaDevOps Ecommerce, Java ProgrammerAu...</td>\n",
              "      <td>0.093398</td>\n",
              "      <td>-0.315369</td>\n",
              "      <td>-0.265078</td>\n",
              "      <td>0.027730</td>\n",
              "      <td>0.159623</td>\n",
              "      <td>-0.225069</td>\n",
              "      <td>-0.145910</td>\n",
              "      <td>-0.000072</td>\n",
              "      <td>-0.018235</td>\n",
              "      <td>...</td>\n",
              "      <td>0.247761</td>\n",
              "      <td>-0.244120</td>\n",
              "      <td>0.078159</td>\n",
              "      <td>-0.232504</td>\n",
              "      <td>-0.304784</td>\n",
              "      <td>0.028185</td>\n",
              "      <td>-0.030930</td>\n",
              "      <td>-0.443128</td>\n",
              "      <td>0.254607</td>\n",
              "      <td>-0.101311</td>\n",
              "    </tr>\n",
              "    <tr>\n",
              "      <th>401</th>\n",
              "      <td>Xavier AbugannamPython Software DeveloperEMDEP...</td>\n",
              "      <td>-0.193498</td>\n",
              "      <td>0.075854</td>\n",
              "      <td>-0.050821</td>\n",
              "      <td>-0.262267</td>\n",
              "      <td>0.202347</td>\n",
              "      <td>-0.354414</td>\n",
              "      <td>-0.025565</td>\n",
              "      <td>0.430970</td>\n",
              "      <td>-0.187691</td>\n",
              "      <td>...</td>\n",
              "      <td>0.361147</td>\n",
              "      <td>0.115747</td>\n",
              "      <td>0.253962</td>\n",
              "      <td>-0.192214</td>\n",
              "      <td>-0.440153</td>\n",
              "      <td>0.016639</td>\n",
              "      <td>-0.279684</td>\n",
              "      <td>0.035856</td>\n",
              "      <td>0.481500</td>\n",
              "      <td>0.170670</td>\n",
              "    </tr>\n",
              "  </tbody>\n",
              "</table>\n",
              "<p>402 rows × 385 columns</p>\n",
              "</div>"
            ],
            "text/plain": [
              "                                                  Text         0         1  \\\n",
              "0    Ruth Libowsky (She/Her)Software Engineer at Tr...  0.093439 -0.228814   \n",
              "1    Kevin JiangSenior Software Engineer at Instaca...  0.065288 -0.100972   \n",
              "2    David ByrneSenior Software EngineerInfluxDataY... -0.157894 -0.354875   \n",
              "3    Amalia HawkinsSoftware EngineerGoogleUniversit... -0.010509 -0.305916   \n",
              "4    Lester Kim (He/Him)Senior Software Engineer at... -0.103556 -0.059175   \n",
              "..                                                 ...       ...       ...   \n",
              "397  J. M. M.PetrophysicistCentro Superior de Forma... -0.064348  0.042672   \n",
              "398  Yael Isay Martinez GutierrezSoftware Developer... -0.143650 -0.029884   \n",
              "399  Tane tiene una cuenta premiumHaz clic para abo... -0.190893  0.077657   \n",
              "400  Javier AlbaDevOps Ecommerce, Java ProgrammerAu...  0.093398 -0.315369   \n",
              "401  Xavier AbugannamPython Software DeveloperEMDEP... -0.193498  0.075854   \n",
              "\n",
              "            2         3         4         5         6         7         8  \\\n",
              "0    0.118767  0.029917  0.182106 -0.012936 -0.052146 -0.014484 -0.357501   \n",
              "1    0.028757 -0.319070  0.118035 -0.179666 -0.326845  0.062097 -0.213299   \n",
              "2   -0.338139 -0.234077  0.030602 -0.078039  0.012305 -0.062966 -0.012517   \n",
              "3    0.031546 -0.079703  0.117760 -0.096203 -0.379563  0.050066 -0.453905   \n",
              "4   -0.466041 -0.115597 -0.199573  0.148209 -0.051699  0.084350 -0.457870   \n",
              "..        ...       ...       ...       ...       ...       ...       ...   \n",
              "397  0.096720  0.145306  0.119732 -0.392934  0.017087  0.102591 -0.003000   \n",
              "398 -0.141249 -0.177348  0.333259 -0.179304 -0.026189  0.415083 -0.234613   \n",
              "399 -0.573271 -0.468546  0.205008 -0.219027  0.147430  0.056727 -0.187177   \n",
              "400 -0.265078  0.027730  0.159623 -0.225069 -0.145910 -0.000072 -0.018235   \n",
              "401 -0.050821 -0.262267  0.202347 -0.354414 -0.025565  0.430970 -0.187691   \n",
              "\n",
              "     ...       374       375       376       377       378       379  \\\n",
              "0    ...  0.152699  0.240190 -0.095608 -0.362179 -0.640039  0.132981   \n",
              "1    ...  0.144112  0.188386 -0.144145 -0.429716 -0.642943 -0.074655   \n",
              "2    ...  0.109654  0.310261  0.233620 -0.563038 -0.379065  0.041764   \n",
              "3    ...  0.119034  0.106255  0.039686 -0.302671 -0.243181  0.220579   \n",
              "4    ...  0.344815  0.321481  0.251250 -0.460472 -0.426613  0.037697   \n",
              "..   ...       ...       ...       ...       ...       ...       ...   \n",
              "397  ...  0.130671  0.161957  0.249268  0.012373 -0.144168 -0.192489   \n",
              "398  ...  0.288654  0.054762  0.439385 -0.018053 -0.483155 -0.089995   \n",
              "399  ...  0.013111  0.071266  0.490488 -0.077976 -0.089267  0.380225   \n",
              "400  ...  0.247761 -0.244120  0.078159 -0.232504 -0.304784  0.028185   \n",
              "401  ...  0.361147  0.115747  0.253962 -0.192214 -0.440153  0.016639   \n",
              "\n",
              "          380       381       382       383  \n",
              "0   -0.372900 -0.411824  0.231895  0.205617  \n",
              "1   -0.263135 -0.280988  0.045374  0.368242  \n",
              "2   -0.392358 -0.194671 -0.028193 -0.082761  \n",
              "3   -0.089857 -0.175926  0.191244  0.058088  \n",
              "4   -0.315723 -0.368274 -0.036814  0.001106  \n",
              "..        ...       ...       ...       ...  \n",
              "397  0.127957  0.027583  0.241034 -0.004347  \n",
              "398 -0.574086 -0.275998  0.192624  0.111531  \n",
              "399 -0.177733 -0.349615  0.084287  0.424485  \n",
              "400 -0.030930 -0.443128  0.254607 -0.101311  \n",
              "401 -0.279684  0.035856  0.481500  0.170670  \n",
              "\n",
              "[402 rows x 385 columns]"
            ]
          },
          "execution_count": 8,
          "metadata": {},
          "output_type": "execute_result"
        }
      ],
      "source": [
        "dFinalC"
      ]
    },
    {
      "cell_type": "code",
      "execution_count": 9,
      "metadata": {},
      "outputs": [],
      "source": [
        "JobDescription = pd.read_csv('JobDescriptionFull.csv')\n",
        "JobDescription = JobDescription.fillna(0)\n",
        "JobDescription = JobDescription[JobDescription.Description != 0]\n",
        "Description = JobDescription.Description.to_list()"
      ]
    },
    {
      "cell_type": "code",
      "execution_count": 10,
      "metadata": {},
      "outputs": [],
      "source": [
        "model = SentenceTransformer('paraphrase-MiniLM-L6-v2')\n",
        "embeddedOffers = []\n",
        "embeddingsJobDescription = model.encode(Description)\n",
        "\n",
        "for sentences, embeddings in zip(Description, embeddingsJobDescription):\n",
        "    embeddedOffers.append(embeddings)"
      ]
    },
    {
      "cell_type": "code",
      "execution_count": 11,
      "metadata": {},
      "outputs": [],
      "source": [
        "df3 = pd.DataFrame(embeddedOffers)\n",
        "df4 = pd.DataFrame(Description).rename(columns= {0: 'Text'})\n",
        "dFinalO = pd.concat([df4,df3], axis = 1)"
      ]
    },
    {
      "cell_type": "code",
      "execution_count": 12,
      "metadata": {},
      "outputs": [
        {
          "data": {
            "text/html": [
              "<div>\n",
              "<style scoped>\n",
              "    .dataframe tbody tr th:only-of-type {\n",
              "        vertical-align: middle;\n",
              "    }\n",
              "\n",
              "    .dataframe tbody tr th {\n",
              "        vertical-align: top;\n",
              "    }\n",
              "\n",
              "    .dataframe thead th {\n",
              "        text-align: right;\n",
              "    }\n",
              "</style>\n",
              "<table border=\"1\" class=\"dataframe\">\n",
              "  <thead>\n",
              "    <tr style=\"text-align: right;\">\n",
              "      <th></th>\n",
              "      <th>Text</th>\n",
              "      <th>0</th>\n",
              "      <th>1</th>\n",
              "      <th>2</th>\n",
              "      <th>3</th>\n",
              "      <th>4</th>\n",
              "      <th>5</th>\n",
              "      <th>6</th>\n",
              "      <th>7</th>\n",
              "      <th>8</th>\n",
              "      <th>...</th>\n",
              "      <th>374</th>\n",
              "      <th>375</th>\n",
              "      <th>376</th>\n",
              "      <th>377</th>\n",
              "      <th>378</th>\n",
              "      <th>379</th>\n",
              "      <th>380</th>\n",
              "      <th>381</th>\n",
              "      <th>382</th>\n",
              "      <th>383</th>\n",
              "    </tr>\n",
              "  </thead>\n",
              "  <tbody>\n",
              "    <tr>\n",
              "      <th>0</th>\n",
              "      <td>\\n\\nJob Description Summary GE Digital Grid En...</td>\n",
              "      <td>-0.407479</td>\n",
              "      <td>0.080798</td>\n",
              "      <td>-0.185230</td>\n",
              "      <td>-0.176876</td>\n",
              "      <td>0.027512</td>\n",
              "      <td>-0.158306</td>\n",
              "      <td>-0.185128</td>\n",
              "      <td>0.344095</td>\n",
              "      <td>-0.329444</td>\n",
              "      <td>...</td>\n",
              "      <td>0.069426</td>\n",
              "      <td>0.013524</td>\n",
              "      <td>-0.005946</td>\n",
              "      <td>-0.214599</td>\n",
              "      <td>-0.461834</td>\n",
              "      <td>0.034391</td>\n",
              "      <td>-0.315084</td>\n",
              "      <td>-0.102854</td>\n",
              "      <td>0.081348</td>\n",
              "      <td>-0.075774</td>\n",
              "    </tr>\n",
              "    <tr>\n",
              "      <th>1</th>\n",
              "      <td>Chassis &amp; Safety Advanced Engineering Software...</td>\n",
              "      <td>-0.189323</td>\n",
              "      <td>0.009180</td>\n",
              "      <td>-0.018519</td>\n",
              "      <td>-0.441077</td>\n",
              "      <td>0.161903</td>\n",
              "      <td>0.076890</td>\n",
              "      <td>-0.159854</td>\n",
              "      <td>0.343799</td>\n",
              "      <td>-0.166233</td>\n",
              "      <td>...</td>\n",
              "      <td>0.192002</td>\n",
              "      <td>0.216029</td>\n",
              "      <td>0.117374</td>\n",
              "      <td>-0.041573</td>\n",
              "      <td>-0.004422</td>\n",
              "      <td>0.168545</td>\n",
              "      <td>-0.447947</td>\n",
              "      <td>0.009806</td>\n",
              "      <td>0.121372</td>\n",
              "      <td>0.061395</td>\n",
              "    </tr>\n",
              "    <tr>\n",
              "      <th>2</th>\n",
              "      <td>The ADAS SW Senior Staff engineer will define ...</td>\n",
              "      <td>-0.258438</td>\n",
              "      <td>0.023670</td>\n",
              "      <td>-0.194209</td>\n",
              "      <td>-0.397000</td>\n",
              "      <td>0.053069</td>\n",
              "      <td>-0.032033</td>\n",
              "      <td>0.117941</td>\n",
              "      <td>0.125920</td>\n",
              "      <td>-0.084319</td>\n",
              "      <td>...</td>\n",
              "      <td>0.166422</td>\n",
              "      <td>0.145118</td>\n",
              "      <td>0.446239</td>\n",
              "      <td>-0.208004</td>\n",
              "      <td>0.026197</td>\n",
              "      <td>0.100514</td>\n",
              "      <td>-0.028475</td>\n",
              "      <td>-0.123514</td>\n",
              "      <td>0.046770</td>\n",
              "      <td>0.062108</td>\n",
              "    </tr>\n",
              "    <tr>\n",
              "      <th>3</th>\n",
              "      <td>Are you interested in working on , one of the ...</td>\n",
              "      <td>0.161388</td>\n",
              "      <td>-0.472524</td>\n",
              "      <td>0.138051</td>\n",
              "      <td>-0.086830</td>\n",
              "      <td>0.087659</td>\n",
              "      <td>-0.402270</td>\n",
              "      <td>-0.148407</td>\n",
              "      <td>-0.027691</td>\n",
              "      <td>-0.071859</td>\n",
              "      <td>...</td>\n",
              "      <td>0.007090</td>\n",
              "      <td>0.024208</td>\n",
              "      <td>-0.030099</td>\n",
              "      <td>-0.326837</td>\n",
              "      <td>-0.343956</td>\n",
              "      <td>0.324727</td>\n",
              "      <td>-0.055931</td>\n",
              "      <td>-0.209363</td>\n",
              "      <td>0.018772</td>\n",
              "      <td>0.011625</td>\n",
              "    </tr>\n",
              "    <tr>\n",
              "      <th>4</th>\n",
              "      <td>Job Description\\nLeads the creation, implement...</td>\n",
              "      <td>-0.482291</td>\n",
              "      <td>-0.218363</td>\n",
              "      <td>0.105186</td>\n",
              "      <td>-0.321687</td>\n",
              "      <td>-0.105759</td>\n",
              "      <td>-0.238806</td>\n",
              "      <td>-0.273577</td>\n",
              "      <td>0.108669</td>\n",
              "      <td>0.013650</td>\n",
              "      <td>...</td>\n",
              "      <td>0.064592</td>\n",
              "      <td>0.394804</td>\n",
              "      <td>-0.042794</td>\n",
              "      <td>-0.272140</td>\n",
              "      <td>0.178049</td>\n",
              "      <td>0.057831</td>\n",
              "      <td>-0.169853</td>\n",
              "      <td>-0.083484</td>\n",
              "      <td>0.292339</td>\n",
              "      <td>0.096381</td>\n",
              "    </tr>\n",
              "    <tr>\n",
              "      <th>...</th>\n",
              "      <td>...</td>\n",
              "      <td>...</td>\n",
              "      <td>...</td>\n",
              "      <td>...</td>\n",
              "      <td>...</td>\n",
              "      <td>...</td>\n",
              "      <td>...</td>\n",
              "      <td>...</td>\n",
              "      <td>...</td>\n",
              "      <td>...</td>\n",
              "      <td>...</td>\n",
              "      <td>...</td>\n",
              "      <td>...</td>\n",
              "      <td>...</td>\n",
              "      <td>...</td>\n",
              "      <td>...</td>\n",
              "      <td>...</td>\n",
              "      <td>...</td>\n",
              "      <td>...</td>\n",
              "      <td>...</td>\n",
              "      <td>...</td>\n",
              "    </tr>\n",
              "    <tr>\n",
              "      <th>181</th>\n",
              "      <td>At Mitratech, we are a team of technocrats foc...</td>\n",
              "      <td>-0.052762</td>\n",
              "      <td>0.085570</td>\n",
              "      <td>-0.163877</td>\n",
              "      <td>-0.390836</td>\n",
              "      <td>0.200535</td>\n",
              "      <td>-0.147234</td>\n",
              "      <td>0.094859</td>\n",
              "      <td>-0.073624</td>\n",
              "      <td>0.055741</td>\n",
              "      <td>...</td>\n",
              "      <td>-0.102785</td>\n",
              "      <td>0.165595</td>\n",
              "      <td>-0.049564</td>\n",
              "      <td>-0.061560</td>\n",
              "      <td>-0.155361</td>\n",
              "      <td>-0.076779</td>\n",
              "      <td>-0.050168</td>\n",
              "      <td>-0.222513</td>\n",
              "      <td>0.198616</td>\n",
              "      <td>0.039647</td>\n",
              "    </tr>\n",
              "    <tr>\n",
              "      <th>182</th>\n",
              "      <td>\\n\\nAt Hewlett Packard Enterprise (HPE), we br...</td>\n",
              "      <td>-0.175952</td>\n",
              "      <td>-0.177450</td>\n",
              "      <td>0.052889</td>\n",
              "      <td>-0.355149</td>\n",
              "      <td>-0.302330</td>\n",
              "      <td>-0.027444</td>\n",
              "      <td>-0.268081</td>\n",
              "      <td>-0.087756</td>\n",
              "      <td>0.075818</td>\n",
              "      <td>...</td>\n",
              "      <td>0.123605</td>\n",
              "      <td>0.056557</td>\n",
              "      <td>-0.040498</td>\n",
              "      <td>0.033812</td>\n",
              "      <td>0.056508</td>\n",
              "      <td>0.005026</td>\n",
              "      <td>0.222485</td>\n",
              "      <td>-0.067389</td>\n",
              "      <td>0.207724</td>\n",
              "      <td>-0.032689</td>\n",
              "    </tr>\n",
              "    <tr>\n",
              "      <th>183</th>\n",
              "      <td>\\n\\n\\n   Senior Software Engineer-2200084D\\n  ...</td>\n",
              "      <td>-0.452990</td>\n",
              "      <td>-0.072433</td>\n",
              "      <td>0.032342</td>\n",
              "      <td>-0.395543</td>\n",
              "      <td>-0.086440</td>\n",
              "      <td>-0.147845</td>\n",
              "      <td>-0.158812</td>\n",
              "      <td>0.147023</td>\n",
              "      <td>-0.192975</td>\n",
              "      <td>...</td>\n",
              "      <td>0.262581</td>\n",
              "      <td>-0.135648</td>\n",
              "      <td>-0.037643</td>\n",
              "      <td>-0.023097</td>\n",
              "      <td>-0.103211</td>\n",
              "      <td>0.117908</td>\n",
              "      <td>-0.230813</td>\n",
              "      <td>-0.178402</td>\n",
              "      <td>0.182981</td>\n",
              "      <td>0.032419</td>\n",
              "    </tr>\n",
              "    <tr>\n",
              "      <th>184</th>\n",
              "      <td>Job Description Summary\\nAs the Cloud Software...</td>\n",
              "      <td>-0.344740</td>\n",
              "      <td>0.149289</td>\n",
              "      <td>0.055167</td>\n",
              "      <td>-0.318332</td>\n",
              "      <td>0.024521</td>\n",
              "      <td>-0.048155</td>\n",
              "      <td>-0.208162</td>\n",
              "      <td>-0.000440</td>\n",
              "      <td>-0.044593</td>\n",
              "      <td>...</td>\n",
              "      <td>0.136881</td>\n",
              "      <td>0.091587</td>\n",
              "      <td>-0.062496</td>\n",
              "      <td>-0.243524</td>\n",
              "      <td>-0.106247</td>\n",
              "      <td>-0.027974</td>\n",
              "      <td>-0.172717</td>\n",
              "      <td>-0.276120</td>\n",
              "      <td>0.121709</td>\n",
              "      <td>-0.051033</td>\n",
              "    </tr>\n",
              "    <tr>\n",
              "      <th>185</th>\n",
              "      <td>\\n\\nJob Description Summary If you love techno...</td>\n",
              "      <td>-0.025021</td>\n",
              "      <td>0.146141</td>\n",
              "      <td>-0.200341</td>\n",
              "      <td>-0.126448</td>\n",
              "      <td>0.099588</td>\n",
              "      <td>0.030401</td>\n",
              "      <td>-0.017486</td>\n",
              "      <td>0.284154</td>\n",
              "      <td>-0.294271</td>\n",
              "      <td>...</td>\n",
              "      <td>0.240077</td>\n",
              "      <td>0.118828</td>\n",
              "      <td>-0.141287</td>\n",
              "      <td>-0.128455</td>\n",
              "      <td>-0.282199</td>\n",
              "      <td>-0.017534</td>\n",
              "      <td>0.060593</td>\n",
              "      <td>0.217824</td>\n",
              "      <td>0.528856</td>\n",
              "      <td>0.035775</td>\n",
              "    </tr>\n",
              "  </tbody>\n",
              "</table>\n",
              "<p>186 rows × 385 columns</p>\n",
              "</div>"
            ],
            "text/plain": [
              "                                                  Text         0         1  \\\n",
              "0    \\n\\nJob Description Summary GE Digital Grid En... -0.407479  0.080798   \n",
              "1    Chassis & Safety Advanced Engineering Software... -0.189323  0.009180   \n",
              "2    The ADAS SW Senior Staff engineer will define ... -0.258438  0.023670   \n",
              "3    Are you interested in working on , one of the ...  0.161388 -0.472524   \n",
              "4    Job Description\\nLeads the creation, implement... -0.482291 -0.218363   \n",
              "..                                                 ...       ...       ...   \n",
              "181  At Mitratech, we are a team of technocrats foc... -0.052762  0.085570   \n",
              "182  \\n\\nAt Hewlett Packard Enterprise (HPE), we br... -0.175952 -0.177450   \n",
              "183  \\n\\n\\n   Senior Software Engineer-2200084D\\n  ... -0.452990 -0.072433   \n",
              "184  Job Description Summary\\nAs the Cloud Software... -0.344740  0.149289   \n",
              "185  \\n\\nJob Description Summary If you love techno... -0.025021  0.146141   \n",
              "\n",
              "            2         3         4         5         6         7         8  \\\n",
              "0   -0.185230 -0.176876  0.027512 -0.158306 -0.185128  0.344095 -0.329444   \n",
              "1   -0.018519 -0.441077  0.161903  0.076890 -0.159854  0.343799 -0.166233   \n",
              "2   -0.194209 -0.397000  0.053069 -0.032033  0.117941  0.125920 -0.084319   \n",
              "3    0.138051 -0.086830  0.087659 -0.402270 -0.148407 -0.027691 -0.071859   \n",
              "4    0.105186 -0.321687 -0.105759 -0.238806 -0.273577  0.108669  0.013650   \n",
              "..        ...       ...       ...       ...       ...       ...       ...   \n",
              "181 -0.163877 -0.390836  0.200535 -0.147234  0.094859 -0.073624  0.055741   \n",
              "182  0.052889 -0.355149 -0.302330 -0.027444 -0.268081 -0.087756  0.075818   \n",
              "183  0.032342 -0.395543 -0.086440 -0.147845 -0.158812  0.147023 -0.192975   \n",
              "184  0.055167 -0.318332  0.024521 -0.048155 -0.208162 -0.000440 -0.044593   \n",
              "185 -0.200341 -0.126448  0.099588  0.030401 -0.017486  0.284154 -0.294271   \n",
              "\n",
              "     ...       374       375       376       377       378       379  \\\n",
              "0    ...  0.069426  0.013524 -0.005946 -0.214599 -0.461834  0.034391   \n",
              "1    ...  0.192002  0.216029  0.117374 -0.041573 -0.004422  0.168545   \n",
              "2    ...  0.166422  0.145118  0.446239 -0.208004  0.026197  0.100514   \n",
              "3    ...  0.007090  0.024208 -0.030099 -0.326837 -0.343956  0.324727   \n",
              "4    ...  0.064592  0.394804 -0.042794 -0.272140  0.178049  0.057831   \n",
              "..   ...       ...       ...       ...       ...       ...       ...   \n",
              "181  ... -0.102785  0.165595 -0.049564 -0.061560 -0.155361 -0.076779   \n",
              "182  ...  0.123605  0.056557 -0.040498  0.033812  0.056508  0.005026   \n",
              "183  ...  0.262581 -0.135648 -0.037643 -0.023097 -0.103211  0.117908   \n",
              "184  ...  0.136881  0.091587 -0.062496 -0.243524 -0.106247 -0.027974   \n",
              "185  ...  0.240077  0.118828 -0.141287 -0.128455 -0.282199 -0.017534   \n",
              "\n",
              "          380       381       382       383  \n",
              "0   -0.315084 -0.102854  0.081348 -0.075774  \n",
              "1   -0.447947  0.009806  0.121372  0.061395  \n",
              "2   -0.028475 -0.123514  0.046770  0.062108  \n",
              "3   -0.055931 -0.209363  0.018772  0.011625  \n",
              "4   -0.169853 -0.083484  0.292339  0.096381  \n",
              "..        ...       ...       ...       ...  \n",
              "181 -0.050168 -0.222513  0.198616  0.039647  \n",
              "182  0.222485 -0.067389  0.207724 -0.032689  \n",
              "183 -0.230813 -0.178402  0.182981  0.032419  \n",
              "184 -0.172717 -0.276120  0.121709 -0.051033  \n",
              "185  0.060593  0.217824  0.528856  0.035775  \n",
              "\n",
              "[186 rows x 385 columns]"
            ]
          },
          "execution_count": 12,
          "metadata": {},
          "output_type": "execute_result"
        }
      ],
      "source": [
        "dFinalO"
      ]
    },
    {
      "cell_type": "code",
      "execution_count": 15,
      "metadata": {},
      "outputs": [
        {
          "data": {
            "text/html": [
              "<div>\n",
              "<style scoped>\n",
              "    .dataframe tbody tr th:only-of-type {\n",
              "        vertical-align: middle;\n",
              "    }\n",
              "\n",
              "    .dataframe tbody tr th {\n",
              "        vertical-align: top;\n",
              "    }\n",
              "\n",
              "    .dataframe thead th {\n",
              "        text-align: right;\n",
              "    }\n",
              "</style>\n",
              "<table border=\"1\" class=\"dataframe\">\n",
              "  <thead>\n",
              "    <tr style=\"text-align: right;\">\n",
              "      <th></th>\n",
              "      <th>Text</th>\n",
              "      <th>0</th>\n",
              "      <th>1</th>\n",
              "      <th>2</th>\n",
              "      <th>3</th>\n",
              "      <th>4</th>\n",
              "      <th>5</th>\n",
              "      <th>6</th>\n",
              "      <th>7</th>\n",
              "      <th>8</th>\n",
              "      <th>...</th>\n",
              "      <th>374</th>\n",
              "      <th>375</th>\n",
              "      <th>376</th>\n",
              "      <th>377</th>\n",
              "      <th>378</th>\n",
              "      <th>379</th>\n",
              "      <th>380</th>\n",
              "      <th>381</th>\n",
              "      <th>382</th>\n",
              "      <th>383</th>\n",
              "    </tr>\n",
              "  </thead>\n",
              "  <tbody>\n",
              "    <tr>\n",
              "      <th>0</th>\n",
              "      <td>Ruth Libowsky (She/Her)Software Engineer at Tr...</td>\n",
              "      <td>0.093439</td>\n",
              "      <td>-0.228814</td>\n",
              "      <td>0.118767</td>\n",
              "      <td>0.029917</td>\n",
              "      <td>0.182106</td>\n",
              "      <td>-0.012936</td>\n",
              "      <td>-0.052146</td>\n",
              "      <td>-0.014484</td>\n",
              "      <td>-0.357501</td>\n",
              "      <td>...</td>\n",
              "      <td>0.152699</td>\n",
              "      <td>0.240190</td>\n",
              "      <td>-0.095608</td>\n",
              "      <td>-0.362179</td>\n",
              "      <td>-0.640039</td>\n",
              "      <td>0.132981</td>\n",
              "      <td>-0.372900</td>\n",
              "      <td>-0.411824</td>\n",
              "      <td>0.231895</td>\n",
              "      <td>0.205617</td>\n",
              "    </tr>\n",
              "    <tr>\n",
              "      <th>1</th>\n",
              "      <td>Kevin JiangSenior Software Engineer at Instaca...</td>\n",
              "      <td>0.065288</td>\n",
              "      <td>-0.100972</td>\n",
              "      <td>0.028757</td>\n",
              "      <td>-0.319070</td>\n",
              "      <td>0.118035</td>\n",
              "      <td>-0.179666</td>\n",
              "      <td>-0.326845</td>\n",
              "      <td>0.062097</td>\n",
              "      <td>-0.213299</td>\n",
              "      <td>...</td>\n",
              "      <td>0.144112</td>\n",
              "      <td>0.188386</td>\n",
              "      <td>-0.144145</td>\n",
              "      <td>-0.429716</td>\n",
              "      <td>-0.642943</td>\n",
              "      <td>-0.074655</td>\n",
              "      <td>-0.263135</td>\n",
              "      <td>-0.280988</td>\n",
              "      <td>0.045374</td>\n",
              "      <td>0.368242</td>\n",
              "    </tr>\n",
              "    <tr>\n",
              "      <th>2</th>\n",
              "      <td>David ByrneSenior Software EngineerInfluxDataY...</td>\n",
              "      <td>-0.157894</td>\n",
              "      <td>-0.354875</td>\n",
              "      <td>-0.338139</td>\n",
              "      <td>-0.234077</td>\n",
              "      <td>0.030602</td>\n",
              "      <td>-0.078039</td>\n",
              "      <td>0.012305</td>\n",
              "      <td>-0.062966</td>\n",
              "      <td>-0.012517</td>\n",
              "      <td>...</td>\n",
              "      <td>0.109654</td>\n",
              "      <td>0.310261</td>\n",
              "      <td>0.233620</td>\n",
              "      <td>-0.563038</td>\n",
              "      <td>-0.379065</td>\n",
              "      <td>0.041764</td>\n",
              "      <td>-0.392358</td>\n",
              "      <td>-0.194671</td>\n",
              "      <td>-0.028193</td>\n",
              "      <td>-0.082761</td>\n",
              "    </tr>\n",
              "    <tr>\n",
              "      <th>3</th>\n",
              "      <td>Amalia HawkinsSoftware EngineerGoogleUniversit...</td>\n",
              "      <td>-0.010509</td>\n",
              "      <td>-0.305916</td>\n",
              "      <td>0.031546</td>\n",
              "      <td>-0.079703</td>\n",
              "      <td>0.117760</td>\n",
              "      <td>-0.096203</td>\n",
              "      <td>-0.379563</td>\n",
              "      <td>0.050066</td>\n",
              "      <td>-0.453905</td>\n",
              "      <td>...</td>\n",
              "      <td>0.119034</td>\n",
              "      <td>0.106255</td>\n",
              "      <td>0.039686</td>\n",
              "      <td>-0.302671</td>\n",
              "      <td>-0.243181</td>\n",
              "      <td>0.220579</td>\n",
              "      <td>-0.089857</td>\n",
              "      <td>-0.175926</td>\n",
              "      <td>0.191244</td>\n",
              "      <td>0.058088</td>\n",
              "    </tr>\n",
              "    <tr>\n",
              "      <th>4</th>\n",
              "      <td>Lester Kim (He/Him)Senior Software Engineer at...</td>\n",
              "      <td>-0.103556</td>\n",
              "      <td>-0.059175</td>\n",
              "      <td>-0.466041</td>\n",
              "      <td>-0.115597</td>\n",
              "      <td>-0.199573</td>\n",
              "      <td>0.148209</td>\n",
              "      <td>-0.051699</td>\n",
              "      <td>0.084350</td>\n",
              "      <td>-0.457870</td>\n",
              "      <td>...</td>\n",
              "      <td>0.344815</td>\n",
              "      <td>0.321481</td>\n",
              "      <td>0.251250</td>\n",
              "      <td>-0.460472</td>\n",
              "      <td>-0.426613</td>\n",
              "      <td>0.037697</td>\n",
              "      <td>-0.315723</td>\n",
              "      <td>-0.368274</td>\n",
              "      <td>-0.036814</td>\n",
              "      <td>0.001106</td>\n",
              "    </tr>\n",
              "    <tr>\n",
              "      <th>...</th>\n",
              "      <td>...</td>\n",
              "      <td>...</td>\n",
              "      <td>...</td>\n",
              "      <td>...</td>\n",
              "      <td>...</td>\n",
              "      <td>...</td>\n",
              "      <td>...</td>\n",
              "      <td>...</td>\n",
              "      <td>...</td>\n",
              "      <td>...</td>\n",
              "      <td>...</td>\n",
              "      <td>...</td>\n",
              "      <td>...</td>\n",
              "      <td>...</td>\n",
              "      <td>...</td>\n",
              "      <td>...</td>\n",
              "      <td>...</td>\n",
              "      <td>...</td>\n",
              "      <td>...</td>\n",
              "      <td>...</td>\n",
              "      <td>...</td>\n",
              "    </tr>\n",
              "    <tr>\n",
              "      <th>181</th>\n",
              "      <td>Troy Schultz (He/Him)UCSC Computer Science + S...</td>\n",
              "      <td>0.165911</td>\n",
              "      <td>0.006427</td>\n",
              "      <td>-0.019655</td>\n",
              "      <td>-0.184730</td>\n",
              "      <td>-0.079361</td>\n",
              "      <td>-0.073813</td>\n",
              "      <td>0.077622</td>\n",
              "      <td>0.213366</td>\n",
              "      <td>-0.312223</td>\n",
              "      <td>...</td>\n",
              "      <td>0.072029</td>\n",
              "      <td>0.135831</td>\n",
              "      <td>0.146460</td>\n",
              "      <td>-0.143278</td>\n",
              "      <td>-0.432006</td>\n",
              "      <td>0.037424</td>\n",
              "      <td>0.212941</td>\n",
              "      <td>-0.220381</td>\n",
              "      <td>-0.161124</td>\n",
              "      <td>0.175305</td>\n",
              "    </tr>\n",
              "    <tr>\n",
              "      <th>182</th>\n",
              "      <td>Kingsley ChinakaSoftware EngineerSTEMuliLagos,...</td>\n",
              "      <td>0.057483</td>\n",
              "      <td>-0.023008</td>\n",
              "      <td>-0.075420</td>\n",
              "      <td>-0.494247</td>\n",
              "      <td>0.047753</td>\n",
              "      <td>-0.075832</td>\n",
              "      <td>-0.307608</td>\n",
              "      <td>0.227100</td>\n",
              "      <td>-0.534378</td>\n",
              "      <td>...</td>\n",
              "      <td>0.174151</td>\n",
              "      <td>0.152871</td>\n",
              "      <td>0.143839</td>\n",
              "      <td>-0.336056</td>\n",
              "      <td>-0.343376</td>\n",
              "      <td>0.086674</td>\n",
              "      <td>-0.198217</td>\n",
              "      <td>-0.118721</td>\n",
              "      <td>0.190189</td>\n",
              "      <td>0.248275</td>\n",
              "    </tr>\n",
              "    <tr>\n",
              "      <th>183</th>\n",
              "      <td>Hugh BillingsSoftware Developer | Java, Spring...</td>\n",
              "      <td>-0.297988</td>\n",
              "      <td>-0.180759</td>\n",
              "      <td>-0.238241</td>\n",
              "      <td>-0.408761</td>\n",
              "      <td>0.128795</td>\n",
              "      <td>-0.446164</td>\n",
              "      <td>-0.167704</td>\n",
              "      <td>0.132486</td>\n",
              "      <td>-0.030090</td>\n",
              "      <td>...</td>\n",
              "      <td>0.369155</td>\n",
              "      <td>-0.019603</td>\n",
              "      <td>0.049345</td>\n",
              "      <td>-0.162053</td>\n",
              "      <td>-0.128021</td>\n",
              "      <td>0.060903</td>\n",
              "      <td>-0.258079</td>\n",
              "      <td>-0.367820</td>\n",
              "      <td>0.305485</td>\n",
              "      <td>-0.052241</td>\n",
              "    </tr>\n",
              "    <tr>\n",
              "      <th>184</th>\n",
              "      <td>Chris OakleyCSE at ThriveworksThriveworksGeorg...</td>\n",
              "      <td>-0.078658</td>\n",
              "      <td>-0.076615</td>\n",
              "      <td>0.090487</td>\n",
              "      <td>0.100809</td>\n",
              "      <td>-0.472600</td>\n",
              "      <td>-0.185375</td>\n",
              "      <td>-0.050624</td>\n",
              "      <td>-0.175329</td>\n",
              "      <td>-0.295539</td>\n",
              "      <td>...</td>\n",
              "      <td>-0.063254</td>\n",
              "      <td>-0.072373</td>\n",
              "      <td>0.277047</td>\n",
              "      <td>0.071015</td>\n",
              "      <td>-0.160895</td>\n",
              "      <td>0.017007</td>\n",
              "      <td>0.005476</td>\n",
              "      <td>-0.333426</td>\n",
              "      <td>-0.086878</td>\n",
              "      <td>0.200973</td>\n",
              "    </tr>\n",
              "    <tr>\n",
              "      <th>185</th>\n",
              "      <td>Jennie WaltersEngineering Manager with a stron...</td>\n",
              "      <td>-0.022953</td>\n",
              "      <td>-0.132163</td>\n",
              "      <td>-0.129870</td>\n",
              "      <td>-0.151189</td>\n",
              "      <td>-0.051466</td>\n",
              "      <td>-0.215570</td>\n",
              "      <td>0.237770</td>\n",
              "      <td>0.235611</td>\n",
              "      <td>0.051358</td>\n",
              "      <td>...</td>\n",
              "      <td>-0.092715</td>\n",
              "      <td>-0.039319</td>\n",
              "      <td>-0.144482</td>\n",
              "      <td>-0.028132</td>\n",
              "      <td>-0.485219</td>\n",
              "      <td>0.079058</td>\n",
              "      <td>-0.069399</td>\n",
              "      <td>-0.436135</td>\n",
              "      <td>-0.278235</td>\n",
              "      <td>0.382340</td>\n",
              "    </tr>\n",
              "  </tbody>\n",
              "</table>\n",
              "<p>186 rows × 385 columns</p>\n",
              "</div>"
            ],
            "text/plain": [
              "                                                  Text         0         1  \\\n",
              "0    Ruth Libowsky (She/Her)Software Engineer at Tr...  0.093439 -0.228814   \n",
              "1    Kevin JiangSenior Software Engineer at Instaca...  0.065288 -0.100972   \n",
              "2    David ByrneSenior Software EngineerInfluxDataY... -0.157894 -0.354875   \n",
              "3    Amalia HawkinsSoftware EngineerGoogleUniversit... -0.010509 -0.305916   \n",
              "4    Lester Kim (He/Him)Senior Software Engineer at... -0.103556 -0.059175   \n",
              "..                                                 ...       ...       ...   \n",
              "181  Troy Schultz (He/Him)UCSC Computer Science + S...  0.165911  0.006427   \n",
              "182  Kingsley ChinakaSoftware EngineerSTEMuliLagos,...  0.057483 -0.023008   \n",
              "183  Hugh BillingsSoftware Developer | Java, Spring... -0.297988 -0.180759   \n",
              "184  Chris OakleyCSE at ThriveworksThriveworksGeorg... -0.078658 -0.076615   \n",
              "185  Jennie WaltersEngineering Manager with a stron... -0.022953 -0.132163   \n",
              "\n",
              "            2         3         4         5         6         7         8  \\\n",
              "0    0.118767  0.029917  0.182106 -0.012936 -0.052146 -0.014484 -0.357501   \n",
              "1    0.028757 -0.319070  0.118035 -0.179666 -0.326845  0.062097 -0.213299   \n",
              "2   -0.338139 -0.234077  0.030602 -0.078039  0.012305 -0.062966 -0.012517   \n",
              "3    0.031546 -0.079703  0.117760 -0.096203 -0.379563  0.050066 -0.453905   \n",
              "4   -0.466041 -0.115597 -0.199573  0.148209 -0.051699  0.084350 -0.457870   \n",
              "..        ...       ...       ...       ...       ...       ...       ...   \n",
              "181 -0.019655 -0.184730 -0.079361 -0.073813  0.077622  0.213366 -0.312223   \n",
              "182 -0.075420 -0.494247  0.047753 -0.075832 -0.307608  0.227100 -0.534378   \n",
              "183 -0.238241 -0.408761  0.128795 -0.446164 -0.167704  0.132486 -0.030090   \n",
              "184  0.090487  0.100809 -0.472600 -0.185375 -0.050624 -0.175329 -0.295539   \n",
              "185 -0.129870 -0.151189 -0.051466 -0.215570  0.237770  0.235611  0.051358   \n",
              "\n",
              "     ...       374       375       376       377       378       379  \\\n",
              "0    ...  0.152699  0.240190 -0.095608 -0.362179 -0.640039  0.132981   \n",
              "1    ...  0.144112  0.188386 -0.144145 -0.429716 -0.642943 -0.074655   \n",
              "2    ...  0.109654  0.310261  0.233620 -0.563038 -0.379065  0.041764   \n",
              "3    ...  0.119034  0.106255  0.039686 -0.302671 -0.243181  0.220579   \n",
              "4    ...  0.344815  0.321481  0.251250 -0.460472 -0.426613  0.037697   \n",
              "..   ...       ...       ...       ...       ...       ...       ...   \n",
              "181  ...  0.072029  0.135831  0.146460 -0.143278 -0.432006  0.037424   \n",
              "182  ...  0.174151  0.152871  0.143839 -0.336056 -0.343376  0.086674   \n",
              "183  ...  0.369155 -0.019603  0.049345 -0.162053 -0.128021  0.060903   \n",
              "184  ... -0.063254 -0.072373  0.277047  0.071015 -0.160895  0.017007   \n",
              "185  ... -0.092715 -0.039319 -0.144482 -0.028132 -0.485219  0.079058   \n",
              "\n",
              "          380       381       382       383  \n",
              "0   -0.372900 -0.411824  0.231895  0.205617  \n",
              "1   -0.263135 -0.280988  0.045374  0.368242  \n",
              "2   -0.392358 -0.194671 -0.028193 -0.082761  \n",
              "3   -0.089857 -0.175926  0.191244  0.058088  \n",
              "4   -0.315723 -0.368274 -0.036814  0.001106  \n",
              "..        ...       ...       ...       ...  \n",
              "181  0.212941 -0.220381 -0.161124  0.175305  \n",
              "182 -0.198217 -0.118721  0.190189  0.248275  \n",
              "183 -0.258079 -0.367820  0.305485 -0.052241  \n",
              "184  0.005476 -0.333426 -0.086878  0.200973  \n",
              "185 -0.069399 -0.436135 -0.278235  0.382340  \n",
              "\n",
              "[186 rows x 385 columns]"
            ]
          },
          "execution_count": 15,
          "metadata": {},
          "output_type": "execute_result"
        }
      ],
      "source": [
        "embeddedCandidates186 = dFinalC[:186]"
      ]
    },
    {
      "cell_type": "code",
      "execution_count": 56,
      "metadata": {},
      "outputs": [
        {
          "data": {
            "image/png": "[encoded data removed]",
            "text/plain": [
              "<Figure size 432x288 with 1 Axes>"
            ]
          },
          "metadata": {
            "needs_background": "light"
          },
          "output_type": "display_data"
        }
      ],
      "source": [
        "import matplotlib.pyplot as plt\n",
        "import numpy as np\n",
        "X = []\n",
        "Y = [] \n",
        "for i in range(len(embeddedOffers)):\n",
        "    X.append(np.mean(embeddedCandidates186[i]))\n",
        "    Y.append(np.mean(embeddedOffers[i]))\n",
        "    plt.scatter(np.mean(embeddedOffers[i]),np.mean(embeddedCandidates186[i]))\n",
        "    plt.xlabel('Offer') \n",
        "    plt.ylabel('Candidate')\n",
        "    plt.title('Ofertas vs Candidatos')"
      ]
    },
    {
      "cell_type": "code",
      "execution_count": 57,
      "metadata": {},
      "outputs": [],
      "source": [
        "df = pd.concat([dFinalO,dFinalC])\n",
        "X = np.array(df.iloc[:,1:])\n",
        "Y = np.array(Y)"
      ]
    },
    {
      "cell_type": "code",
      "execution_count": 58,
      "metadata": {},
      "outputs": [
        {
          "data": {
            "text/plain": [
              "(588, 384)"
            ]
          },
          "execution_count": 58,
          "metadata": {},
          "output_type": "execute_result"
        }
      ],
      "source": [
        "X.shape"
      ]
    },
    {
      "cell_type": "code",
      "execution_count": 59,
      "metadata": {},
      "outputs": [
        {
          "data": {
            "text/plain": [
              "(186,)"
            ]
          },
          "execution_count": 59,
          "metadata": {},
          "output_type": "execute_result"
        }
      ],
      "source": [
        "Y.shape"
      ]
    },
    {
      "cell_type": "code",
      "execution_count": 60,
      "metadata": {},
      "outputs": [
        {
          "ename": "ValueError",
          "evalue": "operands could not be broadcast together with shapes (588,384) (186,) ",
          "output_type": "error",
          "traceback": [
            "\u001b[1;31m---------------------------------------------------------------------------\u001b[0m",
            "\u001b[1;31mValueError\u001b[0m                                Traceback (most recent call last)",
            "\u001b[1;32mc:\\Users\\Fernando.DESKTOP-608G9HT\\Documents\\Cosas personales Fer\\Python\\Limpieza de datos\\DataCleaning\\DaTaAnalysis.ipynb Cell 25'\u001b[0m in \u001b[0;36m<cell line: 1>\u001b[1;34m()\u001b[0m\n\u001b[1;32m----> <a href='vscode-notebook-cell:/c%3A/Users/Fernando.DESKTOP-608G9HT/Documents/Cosas%20personales%20Fer/Python/Limpieza%20de%20datos/DataCleaning/DaTaAnalysis.ipynb#ch0000024?line=0'>1</a>\u001b[0m XY \u001b[39m=\u001b[39m X \u001b[39m+\u001b[39;49m Y \n\u001b[0;32m      <a href='vscode-notebook-cell:/c%3A/Users/Fernando.DESKTOP-608G9HT/Documents/Cosas%20personales%20Fer/Python/Limpieza%20de%20datos/DataCleaning/DaTaAnalysis.ipynb#ch0000024?line=1'>2</a>\u001b[0m XY \u001b[39m=\u001b[39m np\u001b[39m.\u001b[39marray(XY)\u001b[39m.\u001b[39mreshape(\u001b[39m372\u001b[39m,\u001b[39m-\u001b[39m\u001b[39m1\u001b[39m)\n",
            "\u001b[1;31mValueError\u001b[0m: operands could not be broadcast together with shapes (588,384) (186,) "
          ]
        }
      ],
      "source": [
        "XY = X + Y \n",
        "#XY = np.array(XY).reshape(372,-1)"
      ]
    },
    {
      "cell_type": "markdown",
      "metadata": {},
      "source": [
        "#### **KMeans**"
      ]
    },
    {
      "cell_type": "code",
      "execution_count": 53,
      "metadata": {},
      "outputs": [
        {
          "data": {
            "image/png": "[encoded data removed]",
            "text/plain": [
              "<Figure size 432x288 with 1 Axes>"
            ]
          },
          "metadata": {
            "needs_background": "light"
          },
          "output_type": "display_data"
        }
      ],
      "source": [
        "from sklearn.cluster import KMeans\n",
        "Sum_of_squared_distances = []\n",
        "K = range(1,13)\n",
        "for k in K:\n",
        "    km = KMeans(n_clusters = k)\n",
        "    km = km.fit(XY)\n",
        "    Sum_of_squared_distances.append(km.inertia_)\n",
        "plt.plot(K, Sum_of_squared_distances, 'bx-')\n",
        "plt.xlabel('k')\n",
        "plt.ylabel('Sum of squared distances')\n",
        "plt.title('Elbow method for optimal K')\n",
        "plt.show()"
      ]
    },
    {
      "cell_type": "code",
      "execution_count": 54,
      "metadata": {},
      "outputs": [
        {
          "ename": "IndexError",
          "evalue": "only integers, slices (`:`), ellipsis (`...`), numpy.newaxis (`None`) and integer or boolean arrays are valid indices",
          "output_type": "error",
          "traceback": [
            "\u001b[1;31m---------------------------------------------------------------------------\u001b[0m",
            "\u001b[1;31mIndexError\u001b[0m                                Traceback (most recent call last)",
            "\u001b[1;32mc:\\Users\\Fernando.DESKTOP-608G9HT\\Documents\\Cosas personales Fer\\Python\\Limpieza de datos\\DataCleaning\\DaTaAnalysis.ipynb Cell 28'\u001b[0m in \u001b[0;36m<cell line: 7>\u001b[1;34m()\u001b[0m\n\u001b[0;32m      <a href='vscode-notebook-cell:/c%3A/Users/Fernando.DESKTOP-608G9HT/Documents/Cosas%20personales%20Fer/Python/Limpieza%20de%20datos/DataCleaning/DaTaAnalysis.ipynb#ch0000027?line=4'>5</a>\u001b[0m cluster_labels \u001b[39m=\u001b[39m gmm_model\u001b[39m.\u001b[39mpredict(XY)\n\u001b[0;32m      <a href='vscode-notebook-cell:/c%3A/Users/Fernando.DESKTOP-608G9HT/Documents/Cosas%20personales%20Fer/Python/Limpieza%20de%20datos/DataCleaning/DaTaAnalysis.ipynb#ch0000027?line=5'>6</a>\u001b[0m XY \u001b[39m=\u001b[39m pd\u001b[39m.\u001b[39mDataFrame(XY)\n\u001b[1;32m----> <a href='vscode-notebook-cell:/c%3A/Users/Fernando.DESKTOP-608G9HT/Documents/Cosas%20personales%20Fer/Python/Limpieza%20de%20datos/DataCleaning/DaTaAnalysis.ipynb#ch0000027?line=6'>7</a>\u001b[0m X[\u001b[39m'\u001b[39m\u001b[39mcluster\u001b[39m\u001b[39m'\u001b[39m] \u001b[39m=\u001b[39m cluster_labels\n",
            "\u001b[1;31mIndexError\u001b[0m: only integers, slices (`:`), ellipsis (`...`), numpy.newaxis (`None`) and integer or boolean arrays are valid indices"
          ]
        }
      ],
      "source": [
        "from sklearn.mixture import GaussianMixture\n",
        "n_clusters = 12\n",
        "gmm_model = GaussianMixture(n_components=n_clusters)\n",
        "gmm_model.fit(XY)\n",
        "cluster_labels = gmm_model.predict(XY)\n",
        "XY = pd.DataFrame(XY)\n",
        "X['cluster'] = cluster_labels"
      ]
    },
    {
      "cell_type": "code",
      "execution_count": 55,
      "metadata": {},
      "outputs": [
        {
          "ename": "NameError",
          "evalue": "name 'silhouette_score' is not defined",
          "output_type": "error",
          "traceback": [
            "\u001b[1;31m---------------------------------------------------------------------------\u001b[0m",
            "\u001b[1;31mNameError\u001b[0m                                 Traceback (most recent call last)",
            "\u001b[1;32mc:\\Users\\Fernando.DESKTOP-608G9HT\\Documents\\Cosas personales Fer\\Python\\Limpieza de datos\\DataCleaning\\DaTaAnalysis.ipynb Cell 29'\u001b[0m in \u001b[0;36m<cell line: 7>\u001b[1;34m()\u001b[0m\n\u001b[0;32m      <a href='vscode-notebook-cell:/c%3A/Users/Fernando.DESKTOP-608G9HT/Documents/Cosas%20personales%20Fer/Python/Limpieza%20de%20datos/DataCleaning/DaTaAnalysis.ipynb#ch0000028?line=4'>5</a>\u001b[0m predictions \u001b[39m=\u001b[39m modelKmeans\u001b[39m.\u001b[39mpredict(XY)\n\u001b[0;32m      <a href='vscode-notebook-cell:/c%3A/Users/Fernando.DESKTOP-608G9HT/Documents/Cosas%20personales%20Fer/Python/Limpieza%20de%20datos/DataCleaning/DaTaAnalysis.ipynb#ch0000028?line=5'>6</a>\u001b[0m centers \u001b[39m=\u001b[39m modelKmeans\u001b[39m.\u001b[39mcluster_centers_\n\u001b[1;32m----> <a href='vscode-notebook-cell:/c%3A/Users/Fernando.DESKTOP-608G9HT/Documents/Cosas%20personales%20Fer/Python/Limpieza%20de%20datos/DataCleaning/DaTaAnalysis.ipynb#ch0000028?line=6'>7</a>\u001b[0m kmeans_silhouette \u001b[39m=\u001b[39m silhouette_score(XY, modelKmeans\u001b[39m.\u001b[39mlabels_)\u001b[39m.\u001b[39mround(\u001b[39m2\u001b[39m)\n",
            "\u001b[1;31mNameError\u001b[0m: name 'silhouette_score' is not defined"
          ]
        }
      ],
      "source": [
        "from sklearn.cluster import KMeans\n",
        "from sklearn.cluster import DBSCAN\n",
        "modelKmeans = KMeans(n_clusters = 12, init = 'k-means++', n_init= 1)\n",
        "modelKmeans.fit(XY)\n",
        "predictions = modelKmeans.predict(XY)\n",
        "centers = modelKmeans.cluster_centers_\n",
        "kmeans_silhouette = silhouette_score(XY, modelKmeans.labels_).round(2)"
      ]
    },
    {
      "cell_type": "code",
      "execution_count": 501,
      "metadata": {},
      "outputs": [
        {
          "data": {
            "image/png": "[encoded data removed]",
            "text/plain": [
              "<Figure size 432x288 with 1 Axes>"
            ]
          },
          "metadata": {},
          "output_type": "display_data"
        }
      ],
      "source": [
        "for i in range(len(X)):\n",
        "    plt.scatter(X[i], predictions[i])\n",
        "    plt.xlabel('Candidatos')\n",
        "    plt.ylabel('Cluster')\n",
        "    plt.title('Diagrama de candidatos vs Cluster')"
      ]
    },
    {
      "cell_type": "code",
      "execution_count": 499,
      "metadata": {},
      "outputs": [
        {
          "data": {
            "image/png": "[encoded data removed]",
            "text/plain": [
              "<Figure size 432x288 with 1 Axes>"
            ]
          },
          "metadata": {},
          "output_type": "display_data"
        }
      ],
      "source": [
        "for j in range(len(Y)):\n",
        "    plt.scatter(Y[j], predictions[j])\n",
        "    plt.xlabel('Ofertas')\n",
        "    plt.ylabel('Cluster')\n",
        "    plt.title('Diagrama de ofertas vs Cluster')"
      ]
    },
    {
      "cell_type": "code",
      "execution_count": 503,
      "metadata": {},
      "outputs": [
        {
          "data": {
            "image/png": "[encoded data removed]",
            "text/plain": [
              "<Figure size 432x288 with 1 Axes>"
            ]
          },
          "metadata": {},
          "output_type": "display_data"
        }
      ],
      "source": [
        "for k in range(len(XY)):\n",
        "    plt.scatter(XY[k], predictions[k], c = predictions[k])\n",
        "    plt.xlabel('Oferta-Candidato')\n",
        "    plt.ylabel('Cluster')\n",
        "    plt.title('Diagrama de oferta-candidato vs Cluster')"
      ]
    },
    {
      "cell_type": "code",
      "execution_count": 509,
      "metadata": {},
      "outputs": [
        {
          "data": {
            "text/plain": [
              "0.6005531"
            ]
          },
          "execution_count": 509,
          "metadata": {},
          "output_type": "execute_result"
        }
      ],
      "source": [
        "Score_silhouette = silhouette_score(XY, modelKmeans.labels_)\n",
        "Score_silhouette"
      ]
    },
    {
      "cell_type": "markdown",
      "metadata": {
        "id": "IfJBdWoSPPeh"
      },
      "source": [
        "### **Clasificador general**"
      ]
    },
    {
      "cell_type": "code",
      "execution_count": 35,
      "metadata": {
        "id": "_hjDWObJMP-q"
      },
      "outputs": [],
      "source": [
        "#1.Importar librerias\n",
        "import matplotlib.pyplot as plt\n",
        "from sklearn.linear_model import LogisticRegression\n",
        "from sklearn.model_selection import train_test_split\n",
        "from sklearn.metrics import confusion_matrix\n",
        "from sklearn.ensemble import RandomForestClassifier"
      ]
    },
    {
      "cell_type": "markdown",
      "metadata": {},
      "source": [
        "#### **Preprocesamiento de datos**"
      ]
    },
    {
      "cell_type": "code",
      "execution_count": 2,
      "metadata": {},
      "outputs": [
        {
          "ename": "NameError",
          "evalue": "name 'GeneralSFEN' is not defined",
          "output_type": "error",
          "traceback": [
            "\u001b[1;31m---------------------------------------------------------------------------\u001b[0m",
            "\u001b[1;31mNameError\u001b[0m                                 Traceback (most recent call last)",
            "\u001b[1;32mc:\\Users\\Fernando.DESKTOP-608G9HT\\Documents\\Cosas personales Fer\\Python\\Limpieza de datos\\DataCleaning\\DaTaAnalysis.ipynb Cell 5'\u001b[0m in \u001b[0;36m<cell line: 15>\u001b[1;34m()\u001b[0m\n\u001b[0;32m      <a href='vscode-notebook-cell:/c%3A/Users/Fernando.DESKTOP-608G9HT/Documents/Cosas%20personales%20Fer/Python/Limpieza%20de%20datos/DataCleaning/DaTaAnalysis.ipynb#ch0000004?line=2'>3</a>\u001b[0m categoryList \u001b[39m=\u001b[39m [\u001b[39m'\u001b[39m\u001b[39mExperience\u001b[39m\u001b[39m'\u001b[39m, \u001b[39m'\u001b[39m\u001b[39mTime experience\u001b[39m\u001b[39m'\u001b[39m, \u001b[39m'\u001b[39m\u001b[39mEducation Level\u001b[39m\u001b[39m'\u001b[39m,\n\u001b[0;32m      <a href='vscode-notebook-cell:/c%3A/Users/Fernando.DESKTOP-608G9HT/Documents/Cosas%20personales%20Fer/Python/Limpieza%20de%20datos/DataCleaning/DaTaAnalysis.ipynb#ch0000004?line=3'>4</a>\u001b[0m        \u001b[39m'\u001b[39m\u001b[39mEducation profile\u001b[39m\u001b[39m'\u001b[39m, \u001b[39m'\u001b[39m\u001b[39mEnglish\u001b[39m\u001b[39m'\u001b[39m, \u001b[39m'\u001b[39m\u001b[39mSecond Language\u001b[39m\u001b[39m'\u001b[39m, \u001b[39m'\u001b[39m\u001b[39mThird Language\u001b[39m\u001b[39m'\u001b[39m,\n\u001b[0;32m      <a href='vscode-notebook-cell:/c%3A/Users/Fernando.DESKTOP-608G9HT/Documents/Cosas%20personales%20Fer/Python/Limpieza%20de%20datos/DataCleaning/DaTaAnalysis.ipynb#ch0000004?line=4'>5</a>\u001b[0m        \u001b[39m'\u001b[39m\u001b[39mGeneral Purpose Programming Skills\u001b[39m\u001b[39m'\u001b[39m, \u001b[39m'\u001b[39m\u001b[39mBackend Skills\u001b[39m\u001b[39m'\u001b[39m,\n\u001b[1;32m   (...)\u001b[0m\n\u001b[0;32m      <a href='vscode-notebook-cell:/c%3A/Users/Fernando.DESKTOP-608G9HT/Documents/Cosas%20personales%20Fer/Python/Limpieza%20de%20datos/DataCleaning/DaTaAnalysis.ipynb#ch0000004?line=8'>9</a>\u001b[0m        \u001b[39m'\u001b[39m\u001b[39mAPIs development\u001b[39m\u001b[39m'\u001b[39m, \u001b[39m'\u001b[39m\u001b[39mBug management\u001b[39m\u001b[39m'\u001b[39m, \u001b[39m'\u001b[39m\u001b[39mProcess automation\u001b[39m\u001b[39m'\u001b[39m,\n\u001b[0;32m     <a href='vscode-notebook-cell:/c%3A/Users/Fernando.DESKTOP-608G9HT/Documents/Cosas%20personales%20Fer/Python/Limpieza%20de%20datos/DataCleaning/DaTaAnalysis.ipynb#ch0000004?line=9'>10</a>\u001b[0m        \u001b[39m'\u001b[39m\u001b[39mSolution refining\u001b[39m\u001b[39m'\u001b[39m]\n\u001b[0;32m     <a href='vscode-notebook-cell:/c%3A/Users/Fernando.DESKTOP-608G9HT/Documents/Cosas%20personales%20Fer/Python/Limpieza%20de%20datos/DataCleaning/DaTaAnalysis.ipynb#ch0000004?line=10'>11</a>\u001b[0m softList \u001b[39m=\u001b[39m [\u001b[39m'\u001b[39m\u001b[39mSales\u001b[39m\u001b[39m'\u001b[39m, \u001b[39m'\u001b[39m\u001b[39mTeamwork\u001b[39m\u001b[39m'\u001b[39m, \u001b[39m'\u001b[39m\u001b[39mAdaptation\u001b[39m\u001b[39m'\u001b[39m, \u001b[39m'\u001b[39m\u001b[39mResponsability\u001b[39m\u001b[39m'\u001b[39m, \u001b[39m'\u001b[39m\u001b[39mProactive\u001b[39m\u001b[39m'\u001b[39m,\n\u001b[0;32m     <a href='vscode-notebook-cell:/c%3A/Users/Fernando.DESKTOP-608G9HT/Documents/Cosas%20personales%20Fer/Python/Limpieza%20de%20datos/DataCleaning/DaTaAnalysis.ipynb#ch0000004?line=11'>12</a>\u001b[0m        \u001b[39m'\u001b[39m\u001b[39mEffort\u001b[39m\u001b[39m'\u001b[39m, \u001b[39m'\u001b[39m\u001b[39mCreative\u001b[39m\u001b[39m'\u001b[39m, \u001b[39m'\u001b[39m\u001b[39mLeadership\u001b[39m\u001b[39m'\u001b[39m, \u001b[39m'\u001b[39m\u001b[39mProject Management\u001b[39m\u001b[39m'\u001b[39m, \u001b[39m'\u001b[39m\u001b[39mPassionate\u001b[39m\u001b[39m'\u001b[39m,\n\u001b[0;32m     <a href='vscode-notebook-cell:/c%3A/Users/Fernando.DESKTOP-608G9HT/Documents/Cosas%20personales%20Fer/Python/Limpieza%20de%20datos/DataCleaning/DaTaAnalysis.ipynb#ch0000004?line=12'>13</a>\u001b[0m        \u001b[39m'\u001b[39m\u001b[39mProblem Solving\u001b[39m\u001b[39m'\u001b[39m, \u001b[39m'\u001b[39m\u001b[39mCurious\u001b[39m\u001b[39m'\u001b[39m, \u001b[39m'\u001b[39m\u001b[39mFormality\u001b[39m\u001b[39m'\u001b[39m, \u001b[39m'\u001b[39m\u001b[39mCommunication skills\u001b[39m\u001b[39m'\u001b[39m,\n\u001b[0;32m     <a href='vscode-notebook-cell:/c%3A/Users/Fernando.DESKTOP-608G9HT/Documents/Cosas%20personales%20Fer/Python/Limpieza%20de%20datos/DataCleaning/DaTaAnalysis.ipynb#ch0000004?line=13'>14</a>\u001b[0m        \u001b[39m'\u001b[39m\u001b[39mInnovation\u001b[39m\u001b[39m'\u001b[39m]\n\u001b[1;32m---> <a href='vscode-notebook-cell:/c%3A/Users/Fernando.DESKTOP-608G9HT/Documents/Cosas%20personales%20Fer/Python/Limpieza%20de%20datos/DataCleaning/DaTaAnalysis.ipynb#ch0000004?line=14'>15</a>\u001b[0m Categories \u001b[39m=\u001b[39m GeneralSFEN[categoryList]\n\u001b[0;32m     <a href='vscode-notebook-cell:/c%3A/Users/Fernando.DESKTOP-608G9HT/Documents/Cosas%20personales%20Fer/Python/Limpieza%20de%20datos/DataCleaning/DaTaAnalysis.ipynb#ch0000004?line=15'>16</a>\u001b[0m sofCategories \u001b[39m=\u001b[39m SoftSFEN[softList]\n\u001b[0;32m     <a href='vscode-notebook-cell:/c%3A/Users/Fernando.DESKTOP-608G9HT/Documents/Cosas%20personales%20Fer/Python/Limpieza%20de%20datos/DataCleaning/DaTaAnalysis.ipynb#ch0000004?line=16'>17</a>\u001b[0m Job \u001b[39m=\u001b[39m GeneralSFEN\u001b[39m.\u001b[39mJob\n",
            "\u001b[1;31mNameError\u001b[0m: name 'GeneralSFEN' is not defined"
          ]
        }
      ],
      "source": [
        "from sklearn.preprocessing import LabelEncoder\n",
        "#Variables x \n",
        "categoryList = ['Experience', 'Time experience', 'Education Level',\n",
        "       'Education profile', 'English', 'Second Language', 'Third Language',\n",
        "       'General Purpose Programming Skills', 'Backend Skills',\n",
        "       'Frontend Skills', 'Version Control', 'Software Development',\n",
        "       'Good Practices', 'Microsoft Office', 'IoT', 'Network management',\n",
        "       'Data Modelling', 'Database design', 'Embedded system',\n",
        "       'APIs development', 'Bug management', 'Process automation',\n",
        "       'Solution refining']\n",
        "softList = ['Sales', 'Teamwork', 'Adaptation', 'Responsability', 'Proactive',\n",
        "       'Effort', 'Creative', 'Leadership', 'Project Management', 'Passionate',\n",
        "       'Problem Solving', 'Curious', 'Formality', 'Communication skills',\n",
        "       'Innovation']\n",
        "Categories = GeneralSFEN[categoryList]\n",
        "sofCategories = SoftSFEN[softList]\n",
        "Job = GeneralSFEN.Job\n",
        "Job2 = SoftSFEN.Job\n",
        "\n"
      ]
    },
    {
      "cell_type": "markdown",
      "metadata": {
        "id": "pd_7_xJxogUW"
      },
      "source": [
        "#### **Random Forest** "
      ]
    },
    {
      "cell_type": "code",
      "execution_count": 37,
      "metadata": {
        "colab": {
          "base_uri": "https://localhost:8080/"
        },
        "id": "LIb6QXfQomxI",
        "outputId": "b10732da-9a92-4745-d0f1-377c10d8ec40"
      },
      "outputs": [
        {
          "name": "stdout",
          "output_type": "stream",
          "text": [
            "Acuracy:  0.9824561403508771\n",
            "Precision: 0.9824561403508771\n",
            "Rock curve:  0.5\n",
            "F1-Score:  0.9911504424778761\n",
            "Confussion matrix:  [[ 0  1]\n",
            " [ 0 56]]\n",
            "Sensitivity:  1.0\n",
            "Kappa:  0.0\n"
          ]
        }
      ],
      "source": [
        "#Este es un modelo excelente para los datos de Software Engineer\n",
        "from sklearn import metrics\n",
        "#Spliteo de datos\n",
        "xtrain, xtest, ytrain, ytest = train_test_split(Categories, Job, test_size= 0.4, shuffle=True)\n",
        "#Creacion de modelo\n",
        "rf = RandomForestClassifier(n_estimators = 50) #En general depende de mucho del split de los datos, sin embargo con más de 50 estimadores la rock curve alcanza un mínimo de 0.625, teniendo en su mayoría resultados de 1 y 0.98\n",
        "#fit \n",
        "rf.fit(xtrain, ytrain)\n",
        "#predicciones \n",
        "ypredRF = rf.predict(xtest)\n",
        "#Métricas \n",
        "print('Acuracy: ', metrics.accuracy_score(ytest, ypredRF))\n",
        "print(\"Precision:\",metrics.precision_score(ytest, ypredRF))\n",
        "print('Rock curve: ', metrics.roc_auc_score(ytest,ypredRF))\n",
        "print('F1-Score: ', metrics.f1_score(ytest,ypredRF))\n",
        "print('Confussion matrix: ', metrics.confusion_matrix(ytest, ypredRF))\n",
        "print('Sensitivity: ', metrics.recall_score(ytest, ypredRF))\n",
        "print('Kappa: ', metrics.cohen_kappa_score(ytest, ypredRF))"
      ]
    },
    {
      "cell_type": "code",
      "execution_count": 38,
      "metadata": {},
      "outputs": [
        {
          "name": "stdout",
          "output_type": "stream",
          "text": [
            "Acuracy:  0.9649122807017544\n",
            "Precision: 0.9821428571428571\n",
            "Rock curve:  0.49107142857142855\n",
            "F1-Score:  0.9821428571428571\n",
            "Confussion matrix:  [[ 0  1]\n",
            " [ 1 55]]\n",
            "Sensitivity:  0.9821428571428571\n",
            "Kappa:  -0.017857142857143016\n"
          ]
        }
      ],
      "source": [
        "from sklearn import metrics\n",
        "#Spliteo de datos\n",
        "xtrain, xtest, ytrain, ytest = train_test_split(sofCategories, Job2, test_size= 0.4, shuffle=True)\n",
        "#Creacion de modelo\n",
        "rf = RandomForestClassifier(n_estimators = 50) #En general depende de mucho del split de los datos, sin embargo con más de 50 estimadores la rock curve alcanza un mínimo de 0.625, teniendo en su mayoría resultados de 1 y 0.98\n",
        "#fit \n",
        "rf.fit(xtrain, ytrain)\n",
        "#predicciones \n",
        "ypredRFS = rf.predict(xtest)\n",
        "#Métricas \n",
        "print('Acuracy: ', metrics.accuracy_score(ytest, ypredRFS))\n",
        "print(\"Precision:\",metrics.precision_score(ytest, ypredRFS))\n",
        "print('Rock curve: ', metrics.roc_auc_score(ytest,ypredRFS))\n",
        "print('F1-Score: ', metrics.f1_score(ytest,ypredRFS))\n",
        "print('Confussion matrix: ', metrics.confusion_matrix(ytest, ypredRFS))\n",
        "print('Sensitivity: ', metrics.recall_score(ytest, ypredRFS))\n",
        "print('Kappa: ', metrics.cohen_kappa_score(ytest, ypredRFS))"
      ]
    },
    {
      "cell_type": "markdown",
      "metadata": {},
      "source": [
        "#### **GRU Software engineer**"
      ]
    },
    {
      "cell_type": "code",
      "execution_count": 39,
      "metadata": {},
      "outputs": [
        {
          "ename": "ModuleNotFoundError",
          "evalue": "No module named 'tensorflow'",
          "output_type": "error",
          "traceback": [
            "\u001b[1;31m---------------------------------------------------------------------------\u001b[0m",
            "\u001b[1;31mModuleNotFoundError\u001b[0m                       Traceback (most recent call last)",
            "\u001b[1;32mc:\\Users\\Fernando.DESKTOP-608G9HT\\Documents\\Cosas personales Fer\\Python\\Limpieza de datos\\DataCleaning\\DaTaAnalysis.ipynb Cell 40'\u001b[0m in \u001b[0;36m<cell line: 2>\u001b[1;34m()\u001b[0m\n\u001b[0;32m      <a href='vscode-notebook-cell:/c%3A/Users/Fernando.DESKTOP-608G9HT/Documents/Cosas%20personales%20Fer/Python/Limpieza%20de%20datos/DataCleaning/DaTaAnalysis.ipynb#ch0000043?line=0'>1</a>\u001b[0m \u001b[39m#Este no es un buen modelo\u001b[39;00m\n\u001b[1;32m----> <a href='vscode-notebook-cell:/c%3A/Users/Fernando.DESKTOP-608G9HT/Documents/Cosas%20personales%20Fer/Python/Limpieza%20de%20datos/DataCleaning/DaTaAnalysis.ipynb#ch0000043?line=1'>2</a>\u001b[0m \u001b[39mimport\u001b[39;00m \u001b[39mtensorflow\u001b[39;00m \u001b[39mas\u001b[39;00m \u001b[39mtf\u001b[39;00m \n\u001b[0;32m      <a href='vscode-notebook-cell:/c%3A/Users/Fernando.DESKTOP-608G9HT/Documents/Cosas%20personales%20Fer/Python/Limpieza%20de%20datos/DataCleaning/DaTaAnalysis.ipynb#ch0000043?line=2'>3</a>\u001b[0m \u001b[39mfrom\u001b[39;00m \u001b[39mtensorflow\u001b[39;00m\u001b[39m.\u001b[39;00m\u001b[39mkeras\u001b[39;00m\u001b[39m.\u001b[39;00m\u001b[39mmodels\u001b[39;00m \u001b[39mimport\u001b[39;00m Sequential\n\u001b[0;32m      <a href='vscode-notebook-cell:/c%3A/Users/Fernando.DESKTOP-608G9HT/Documents/Cosas%20personales%20Fer/Python/Limpieza%20de%20datos/DataCleaning/DaTaAnalysis.ipynb#ch0000043?line=3'>4</a>\u001b[0m \u001b[39mfrom\u001b[39;00m \u001b[39mtensorflow\u001b[39;00m\u001b[39m.\u001b[39;00m\u001b[39mkeras\u001b[39;00m\u001b[39m.\u001b[39;00m\u001b[39mlayers\u001b[39;00m \u001b[39mimport\u001b[39;00m Dense\n",
            "\u001b[1;31mModuleNotFoundError\u001b[0m: No module named 'tensorflow'"
          ]
        }
      ],
      "source": [
        "#Este no es un buen modelo\n",
        "import tensorflow as tf \n",
        "from tensorflow.keras.models import Sequential\n",
        "from tensorflow.keras.layers import Dense\n",
        "from tensorflow.keras.layers import GRU\n",
        "from tensorflow.keras.layers import Dropout\n",
        "from tensorflow.keras.layers import Softmax\n",
        "from tensorflow.keras.layers import SimpleRNN\n",
        "from tensorflow.keras.layers import LSTM\n",
        "from tensorflow.keras.layers import BatchNormalization\n",
        "categorias = len(np.unique(Job))\n",
        "#Convertir a array para después poder hacer reshape \n",
        "Job = np.array(Job)\n",
        "Categories = np.array(Categories)\n",
        "#Spliteo\n",
        "xtrain, xtest, ytrain, ytest = train_test_split(Categories, Job, test_size= 0.3, shuffle=True)\n",
        "#Reshape para poder dar forma de entrada y porque originalmente era un serie de dataframe "
      ]
    },
    {
      "cell_type": "code",
      "execution_count": 612,
      "metadata": {},
      "outputs": [],
      "source": [
        "xtrain = np.reshape(-1,1)"
      ]
    },
    {
      "cell_type": "code",
      "execution_count": 597,
      "metadata": {},
      "outputs": [],
      "source": [
        "xtrain = np.reshape(xtrain, (xtrain.shape[0], xtrain.shape[1],1))"
      ]
    },
    {
      "cell_type": "code",
      "execution_count": 598,
      "metadata": {},
      "outputs": [
        {
          "name": "stdout",
          "output_type": "stream",
          "text": [
            "Epoch 1/50\n",
            "20/20 [==============================] - 9s 216ms/step - loss: 0.1875 - accuracy: 0.9592\n",
            "Epoch 2/50\n",
            "20/20 [==============================] - 4s 209ms/step - loss: 0.1513 - accuracy: 0.9694\n",
            "Epoch 3/50\n",
            "20/20 [==============================] - 4s 217ms/step - loss: 0.1458 - accuracy: 0.9694\n",
            "Epoch 4/50\n",
            "20/20 [==============================] - 5s 233ms/step - loss: 0.1515 - accuracy: 0.9694\n",
            "Epoch 5/50\n",
            "20/20 [==============================] - 5s 251ms/step - loss: 0.1590 - accuracy: 0.9694\n",
            "Epoch 6/50\n",
            "20/20 [==============================] - 5s 262ms/step - loss: 0.1623 - accuracy: 0.9694\n",
            "Epoch 7/50\n",
            "20/20 [==============================] - 5s 258ms/step - loss: 0.1506 - accuracy: 0.9694\n",
            "Epoch 8/50\n",
            "20/20 [==============================] - 5s 249ms/step - loss: 0.1436 - accuracy: 0.9694\n",
            "Epoch 9/50\n",
            "20/20 [==============================] - 5s 249ms/step - loss: 0.1450 - accuracy: 0.9694\n",
            "Epoch 10/50\n",
            "20/20 [==============================] - 5s 245ms/step - loss: 0.1398 - accuracy: 0.9694\n",
            "Epoch 11/50\n",
            "20/20 [==============================] - 5s 240ms/step - loss: 0.1381 - accuracy: 0.9694\n",
            "Epoch 12/50\n",
            "20/20 [==============================] - 5s 254ms/step - loss: 0.1365 - accuracy: 0.9694\n",
            "Epoch 13/50\n",
            "20/20 [==============================] - 5s 269ms/step - loss: 0.1363 - accuracy: 0.9694\n",
            "Epoch 14/50\n",
            "20/20 [==============================] - 4s 222ms/step - loss: 0.1446 - accuracy: 0.9694\n",
            "Epoch 15/50\n",
            "20/20 [==============================] - 5s 239ms/step - loss: 0.1491 - accuracy: 0.9694\n",
            "Epoch 16/50\n",
            "20/20 [==============================] - 5s 250ms/step - loss: 0.1400 - accuracy: 0.9694\n",
            "Epoch 17/50\n",
            "20/20 [==============================] - 5s 227ms/step - loss: 0.1510 - accuracy: 0.9694\n",
            "Epoch 18/50\n",
            "20/20 [==============================] - 5s 228ms/step - loss: 0.1474 - accuracy: 0.9694\n",
            "Epoch 19/50\n",
            "20/20 [==============================] - 5s 226ms/step - loss: 0.1424 - accuracy: 0.9694\n",
            "Epoch 20/50\n",
            "20/20 [==============================] - 5s 228ms/step - loss: 0.1485 - accuracy: 0.9694\n",
            "Epoch 21/50\n",
            "20/20 [==============================] - 5s 231ms/step - loss: 0.1487 - accuracy: 0.9694\n",
            "Epoch 22/50\n",
            "20/20 [==============================] - 5s 228ms/step - loss: 0.1435 - accuracy: 0.9694\n",
            "Epoch 23/50\n",
            "20/20 [==============================] - 5s 228ms/step - loss: 0.1320 - accuracy: 0.9694\n",
            "Epoch 24/50\n",
            "20/20 [==============================] - 5s 227ms/step - loss: 0.1467 - accuracy: 0.9694\n",
            "Epoch 25/50\n",
            "20/20 [==============================] - 5s 229ms/step - loss: 0.1489 - accuracy: 0.9694\n",
            "Epoch 26/50\n",
            "20/20 [==============================] - 5s 228ms/step - loss: 0.1459 - accuracy: 0.9694\n",
            "Epoch 27/50\n",
            "20/20 [==============================] - 5s 226ms/step - loss: 0.1413 - accuracy: 0.9694\n",
            "Epoch 28/50\n",
            "20/20 [==============================] - 5s 227ms/step - loss: 0.1423 - accuracy: 0.9694\n",
            "Epoch 29/50\n",
            "20/20 [==============================] - 5s 227ms/step - loss: 0.1378 - accuracy: 0.9694\n",
            "Epoch 30/50\n",
            "20/20 [==============================] - 5s 234ms/step - loss: 0.1370 - accuracy: 0.9694\n",
            "Epoch 31/50\n",
            "20/20 [==============================] - 5s 230ms/step - loss: 0.1378 - accuracy: 0.9694\n",
            "Epoch 32/50\n",
            "20/20 [==============================] - 5s 227ms/step - loss: 0.1487 - accuracy: 0.9694\n",
            "Epoch 33/50\n",
            "20/20 [==============================] - 5s 230ms/step - loss: 0.1603 - accuracy: 0.9694\n",
            "Epoch 34/50\n",
            "20/20 [==============================] - 5s 231ms/step - loss: 0.1361 - accuracy: 0.9694\n",
            "Epoch 35/50\n",
            "20/20 [==============================] - 5s 229ms/step - loss: 0.1491 - accuracy: 0.9694\n",
            "Epoch 36/50\n",
            "20/20 [==============================] - 5s 230ms/step - loss: 0.1401 - accuracy: 0.9694\n",
            "Epoch 37/50\n",
            "20/20 [==============================] - 5s 231ms/step - loss: 0.1462 - accuracy: 0.9694\n",
            "Epoch 38/50\n",
            "20/20 [==============================] - 5s 232ms/step - loss: 0.1492 - accuracy: 0.9694\n",
            "Epoch 39/50\n",
            "20/20 [==============================] - 5s 233ms/step - loss: 0.1421 - accuracy: 0.9694\n",
            "Epoch 40/50\n",
            "20/20 [==============================] - 5s 231ms/step - loss: 0.1437 - accuracy: 0.9694\n",
            "Epoch 41/50\n",
            "20/20 [==============================] - 5s 229ms/step - loss: 0.1469 - accuracy: 0.9694\n",
            "Epoch 42/50\n",
            "20/20 [==============================] - 5s 230ms/step - loss: 0.1348 - accuracy: 0.9694\n",
            "Epoch 43/50\n",
            "20/20 [==============================] - 5s 231ms/step - loss: 0.1514 - accuracy: 0.9694\n",
            "Epoch 44/50\n",
            "20/20 [==============================] - 5s 230ms/step - loss: 0.1527 - accuracy: 0.9694\n",
            "Epoch 45/50\n",
            "20/20 [==============================] - 5s 228ms/step - loss: 0.1416 - accuracy: 0.9694\n",
            "Epoch 46/50\n",
            "20/20 [==============================] - 5s 270ms/step - loss: 0.1482 - accuracy: 0.9694\n",
            "Epoch 47/50\n",
            "20/20 [==============================] - 5s 259ms/step - loss: 0.1425 - accuracy: 0.9694\n",
            "Epoch 48/50\n",
            "20/20 [==============================] - 5s 260ms/step - loss: 0.1473 - accuracy: 0.9694\n",
            "Epoch 49/50\n",
            "20/20 [==============================] - 5s 267ms/step - loss: 0.1376 - accuracy: 0.9694\n",
            "Epoch 50/50\n",
            "20/20 [==============================] - 5s 247ms/step - loss: 0.1396 - accuracy: 0.9694\n",
            "Model: \"sequential_21\"\n",
            "_________________________________________________________________\n",
            " Layer (type)                Output Shape              Param #   \n",
            "=================================================================\n",
            " lstm_42 (LSTM)              (None, 23, 750)           2256000   \n",
            "                                                                 \n",
            " dense_63 (Dense)            (None, 23, 2000)          1502000   \n",
            "                                                                 \n",
            " lstm_43 (LSTM)              (None, 23, 250)           2251000   \n",
            "                                                                 \n",
            " dropout_42 (Dropout)        (None, 23, 250)           0         \n",
            "                                                                 \n",
            " simple_rnn_21 (SimpleRNN)   (None, 23, 100)           35100     \n",
            "                                                                 \n",
            " dropout_43 (Dropout)        (None, 23, 100)           0         \n",
            "                                                                 \n",
            " gru_21 (GRU)                (None, 50)                22800     \n",
            "                                                                 \n",
            " dense_64 (Dense)            (None, 25)                1275      \n",
            "                                                                 \n",
            " dense_65 (Dense)            (None, 1)                 26        \n",
            "                                                                 \n",
            "=================================================================\n",
            "Total params: 6,068,201\n",
            "Trainable params: 6,068,201\n",
            "Non-trainable params: 0\n",
            "_________________________________________________________________\n"
          ]
        }
      ],
      "source": [
        "#Modelo GRU\n",
        "rnn = Sequential([LSTM(units = 750, return_sequences=True, input_shape = (xtrain.shape[1],1), activation= 'relu'), Dense(units= 2000),\n",
        "                    LSTM(units = 250, return_sequences=True, activation='tanh'), Dropout(0.7),SimpleRNN(units = 100, return_sequences=True, activation = 'relu'),\n",
        "                    Dropout(0.3), GRU(units = 50, activation='tanh'),Dense(25) , Dense(1, activation = 'sigmoid')]) #Si se elimina la capa Softmax tiene un comportameitno de reaprendizaje, hacer pooling de maximum value \n",
        "loss_function = tf.keras.losses.BinaryCrossentropy()\n",
        "rnn.compile(optimizer='Adam', loss= loss_function, metrics=['accuracy'])\n",
        "rnn.fit(xtrain,ytrain,epochs= 50, batch_size=5)\n",
        "rnn.summary()\n",
        "xtest = np.reshape(xtest, (xtest.shape[0], xtrain.shape[1],1))\n",
        "ypred = rnn.predict(xtest)\n",
        "predictions = []\n",
        "for prediction in ypred:\n",
        "    prediction = int(np.round(prediction))\n",
        "    predictions.append(prediction)"
      ]
    },
    {
      "cell_type": "code",
      "execution_count": 599,
      "metadata": {},
      "outputs": [
        {
          "name": "stdout",
          "output_type": "stream",
          "text": [
            "Acuracy:  0.9767441860465116\n",
            "Precision: 0.9767441860465116\n",
            "Rock curve:  0.5\n",
            "F1-Score:  0.988235294117647\n",
            "Sensitivity:  1.0\n",
            "Kappa:  0.0\n"
          ]
        }
      ],
      "source": [
        "print('Acuracy: ', metrics.accuracy_score(ytest, predictions))\n",
        "print(\"Precision:\",metrics.precision_score(ytest, predictions))\n",
        "print('Rock curve: ', metrics.roc_auc_score(ytest, predictions))\n",
        "print('F1-Score: ', metrics.f1_score(ytest,predictions))\n",
        "print('Sensitivity: ', metrics.recall_score(ytest, predictions))\n",
        "print('Kappa: ', metrics.cohen_kappa_score(ytest, predictions))"
      ]
    },
    {
      "cell_type": "code",
      "execution_count": 562,
      "metadata": {},
      "outputs": [
        {
          "data": {
            "text/plain": [
              "57"
            ]
          },
          "execution_count": 562,
          "metadata": {},
          "output_type": "execute_result"
        }
      ],
      "source": [
        "len(ypredRF)"
      ]
    },
    {
      "cell_type": "code",
      "execution_count": 585,
      "metadata": {},
      "outputs": [
        {
          "data": {
            "text/plain": [
              "43"
            ]
          },
          "execution_count": 585,
          "metadata": {},
          "output_type": "execute_result"
        }
      ],
      "source": [
        "len(predictions)"
      ]
    },
    {
      "cell_type": "code",
      "execution_count": 628,
      "metadata": {},
      "outputs": [
        {
          "data": {
            "text/plain": [
              "Text(0.5, 1.0, 'Valors predichos vs reales en GRU para habilidades duras')"
            ]
          },
          "execution_count": 628,
          "metadata": {},
          "output_type": "execute_result"
        },
        {
          "data": {
            "image/png": "[encoded data removed]",
            "text/plain": [
              "<Figure size 432x288 with 1 Axes>"
            ]
          },
          "metadata": {},
          "output_type": "display_data"
        }
      ],
      "source": [
        "X = np.linspace(0,1,43)\n",
        "plt.scatter(X, ytest, c = 'blue')\n",
        "plt.plot(X,predictions, '--', c = 'red')\n",
        "plt.ylabel('Valor predicho')\n",
        "plt.legend(['Valores reales', 'Valores predichos GRU'])\n",
        "plt.title('Valors predichos vs reales en GRU para habilidades duras')"
      ]
    },
    {
      "cell_type": "code",
      "execution_count": 579,
      "metadata": {},
      "outputs": [
        {
          "data": {
            "text/plain": [
              "Text(0.5, 1.0, 'Gráfico de habilidades duras GRU')"
            ]
          },
          "execution_count": 579,
          "metadata": {},
          "output_type": "execute_result"
        },
        {
          "data": {
            "image/png": "[encoded data removed]",
            "text/plain": [
              "<Figure size 432x288 with 1 Axes>"
            ]
          },
          "metadata": {},
          "output_type": "display_data"
        }
      ],
      "source": [
        "plt.scatter(ytest, predictions)\n",
        "plt.xlabel('Valores reales')\n",
        "plt.ylabel('Valores descritos')\n",
        "plt.title('Gráfico de habilidades duras GRU')"
      ]
    },
    {
      "cell_type": "markdown",
      "metadata": {},
      "source": [
        "#### **Soft skills**"
      ]
    },
    {
      "cell_type": "code",
      "execution_count": 533,
      "metadata": {},
      "outputs": [],
      "source": [
        "categoriasSoft = len(np.unique(Job2))\n",
        "#Convertir a array para después poder hacer reshape \n",
        "Job2 = np.array(Job2)\n",
        "sofCategories = np.array(sofCategories)\n",
        "#Spliteo\n",
        "xtrainSF, xtestSF, ytrainSF, ytestSF = train_test_split(sofCategories, Job2, test_size= 0.3, shuffle=True)\n",
        "#Reshape para poder dar forma de entrada y porque originalmente era un serie de dataframe \n",
        "xtrainSF = np.reshape(xtrainSF, (xtrainSF.shape[0], xtrainSF.shape[1],1))"
      ]
    },
    {
      "cell_type": "code",
      "execution_count": 549,
      "metadata": {},
      "outputs": [
        {
          "name": "stdout",
          "output_type": "stream",
          "text": [
            "Epoch 1/100\n",
            "20/20 [==============================] - 8s 161ms/step - loss: 0.2478 - accuracy: 0.9490\n",
            "Epoch 2/100\n",
            "20/20 [==============================] - 3s 151ms/step - loss: 0.1478 - accuracy: 0.9694\n",
            "Epoch 3/100\n",
            "20/20 [==============================] - 3s 164ms/step - loss: 0.1567 - accuracy: 0.9694\n",
            "Epoch 4/100\n",
            "20/20 [==============================] - 3s 170ms/step - loss: 0.1640 - accuracy: 0.9694\n",
            "Epoch 5/100\n",
            "20/20 [==============================] - 3s 166ms/step - loss: 0.1398 - accuracy: 0.9694\n",
            "Epoch 6/100\n",
            "20/20 [==============================] - 3s 160ms/step - loss: 0.1475 - accuracy: 0.9694\n",
            "Epoch 7/100\n",
            "20/20 [==============================] - 3s 159ms/step - loss: 0.1449 - accuracy: 0.9694\n",
            "Epoch 8/100\n",
            "20/20 [==============================] - 3s 151ms/step - loss: 0.1474 - accuracy: 0.9694\n",
            "Epoch 9/100\n",
            "20/20 [==============================] - 3s 154ms/step - loss: 0.1481 - accuracy: 0.9694\n",
            "Epoch 10/100\n",
            "20/20 [==============================] - 3s 164ms/step - loss: 0.1415 - accuracy: 0.9694\n",
            "Epoch 11/100\n",
            "20/20 [==============================] - 3s 152ms/step - loss: 0.1335 - accuracy: 0.9694\n",
            "Epoch 12/100\n",
            "20/20 [==============================] - 3s 149ms/step - loss: 0.1454 - accuracy: 0.9694\n",
            "Epoch 13/100\n",
            "20/20 [==============================] - 3s 150ms/step - loss: 0.1430 - accuracy: 0.9694\n",
            "Epoch 14/100\n",
            "20/20 [==============================] - 3s 153ms/step - loss: 0.1420 - accuracy: 0.9694\n",
            "Epoch 15/100\n",
            "20/20 [==============================] - 3s 156ms/step - loss: 0.1438 - accuracy: 0.9694\n",
            "Epoch 16/100\n",
            "20/20 [==============================] - 3s 159ms/step - loss: 0.1395 - accuracy: 0.9694\n",
            "Epoch 17/100\n",
            "20/20 [==============================] - 3s 176ms/step - loss: 0.1442 - accuracy: 0.9694\n",
            "Epoch 18/100\n",
            "20/20 [==============================] - 3s 167ms/step - loss: 0.1468 - accuracy: 0.9694\n",
            "Epoch 19/100\n",
            "20/20 [==============================] - 4s 192ms/step - loss: 0.1497 - accuracy: 0.9694\n",
            "Epoch 20/100\n",
            "20/20 [==============================] - 3s 173ms/step - loss: 0.1418 - accuracy: 0.9694\n",
            "Epoch 21/100\n",
            "20/20 [==============================] - 3s 172ms/step - loss: 0.1384 - accuracy: 0.9694\n",
            "Epoch 22/100\n",
            "20/20 [==============================] - 4s 181ms/step - loss: 0.1455 - accuracy: 0.9694\n",
            "Epoch 23/100\n",
            "20/20 [==============================] - 4s 180ms/step - loss: 0.1484 - accuracy: 0.9694\n",
            "Epoch 24/100\n",
            "20/20 [==============================] - 4s 201ms/step - loss: 0.1423 - accuracy: 0.9694\n",
            "Epoch 25/100\n",
            "20/20 [==============================] - 4s 190ms/step - loss: 0.1388 - accuracy: 0.9694\n",
            "Epoch 26/100\n",
            "20/20 [==============================] - 4s 193ms/step - loss: 0.1459 - accuracy: 0.9694\n",
            "Epoch 27/100\n",
            "20/20 [==============================] - 4s 181ms/step - loss: 0.1397 - accuracy: 0.9694\n",
            "Epoch 28/100\n",
            "20/20 [==============================] - 3s 169ms/step - loss: 0.1402 - accuracy: 0.9694\n",
            "Epoch 29/100\n",
            "20/20 [==============================] - 3s 158ms/step - loss: 0.1362 - accuracy: 0.9694\n",
            "Epoch 30/100\n",
            "20/20 [==============================] - 3s 159ms/step - loss: 0.1447 - accuracy: 0.9694\n",
            "Epoch 31/100\n",
            "20/20 [==============================] - 3s 168ms/step - loss: 0.1383 - accuracy: 0.9694\n",
            "Epoch 32/100\n",
            "20/20 [==============================] - 4s 186ms/step - loss: 0.1408 - accuracy: 0.9694\n",
            "Epoch 33/100\n",
            "20/20 [==============================] - 4s 184ms/step - loss: 0.1412 - accuracy: 0.9694\n",
            "Epoch 34/100\n",
            "20/20 [==============================] - 4s 191ms/step - loss: 0.1410 - accuracy: 0.9694\n",
            "Epoch 35/100\n",
            "20/20 [==============================] - 4s 224ms/step - loss: 0.1428 - accuracy: 0.9694\n",
            "Epoch 36/100\n",
            "20/20 [==============================] - 3s 164ms/step - loss: 0.1417 - accuracy: 0.9694\n",
            "Epoch 37/100\n",
            "20/20 [==============================] - 4s 211ms/step - loss: 0.1439 - accuracy: 0.9694\n",
            "Epoch 38/100\n",
            "20/20 [==============================] - 4s 201ms/step - loss: 0.1360 - accuracy: 0.9694\n",
            "Epoch 39/100\n",
            "20/20 [==============================] - 4s 187ms/step - loss: 0.1398 - accuracy: 0.9694\n",
            "Epoch 40/100\n",
            "20/20 [==============================] - 4s 194ms/step - loss: 0.1421 - accuracy: 0.9694\n",
            "Epoch 41/100\n",
            "20/20 [==============================] - 4s 180ms/step - loss: 0.1368 - accuracy: 0.9694\n",
            "Epoch 42/100\n",
            "20/20 [==============================] - 3s 166ms/step - loss: 0.1426 - accuracy: 0.9694\n",
            "Epoch 43/100\n",
            "20/20 [==============================] - 4s 180ms/step - loss: 0.1598 - accuracy: 0.9694\n",
            "Epoch 44/100\n",
            "20/20 [==============================] - 4s 192ms/step - loss: 0.1409 - accuracy: 0.9694\n",
            "Epoch 45/100\n",
            "20/20 [==============================] - 4s 197ms/step - loss: 0.1461 - accuracy: 0.9694\n",
            "Epoch 46/100\n",
            "20/20 [==============================] - 4s 194ms/step - loss: 0.1450 - accuracy: 0.9694\n",
            "Epoch 47/100\n",
            "20/20 [==============================] - 4s 189ms/step - loss: 0.1391 - accuracy: 0.9694\n",
            "Epoch 48/100\n",
            "20/20 [==============================] - 4s 183ms/step - loss: 0.1407 - accuracy: 0.9694\n",
            "Epoch 49/100\n",
            "20/20 [==============================] - 4s 183ms/step - loss: 0.1371 - accuracy: 0.9694\n",
            "Epoch 50/100\n",
            "20/20 [==============================] - 4s 178ms/step - loss: 0.1400 - accuracy: 0.9694\n",
            "Epoch 51/100\n",
            "20/20 [==============================] - 4s 177ms/step - loss: 0.1356 - accuracy: 0.9694\n",
            "Epoch 52/100\n",
            "20/20 [==============================] - 4s 185ms/step - loss: 0.1388 - accuracy: 0.9694\n",
            "Epoch 53/100\n",
            "20/20 [==============================] - 4s 184ms/step - loss: 0.1387 - accuracy: 0.9694\n",
            "Epoch 54/100\n",
            "20/20 [==============================] - 4s 191ms/step - loss: 0.1345 - accuracy: 0.9694\n",
            "Epoch 55/100\n",
            "20/20 [==============================] - 4s 177ms/step - loss: 0.1395 - accuracy: 0.9694\n",
            "Epoch 56/100\n",
            "20/20 [==============================] - 3s 176ms/step - loss: 0.1374 - accuracy: 0.9694\n",
            "Epoch 57/100\n",
            "20/20 [==============================] - 4s 186ms/step - loss: 0.1391 - accuracy: 0.9694\n",
            "Epoch 58/100\n",
            "20/20 [==============================] - 3s 169ms/step - loss: 0.1368 - accuracy: 0.9694\n",
            "Epoch 59/100\n",
            "20/20 [==============================] - 4s 178ms/step - loss: 0.1418 - accuracy: 0.9694\n",
            "Epoch 60/100\n",
            "20/20 [==============================] - 4s 195ms/step - loss: 0.1390 - accuracy: 0.9694\n",
            "Epoch 61/100\n",
            "20/20 [==============================] - 4s 187ms/step - loss: 0.1487 - accuracy: 0.9694\n",
            "Epoch 62/100\n",
            "20/20 [==============================] - 4s 190ms/step - loss: 0.1402 - accuracy: 0.9694\n",
            "Epoch 63/100\n",
            "20/20 [==============================] - 4s 191ms/step - loss: 0.1460 - accuracy: 0.9694\n",
            "Epoch 64/100\n",
            "20/20 [==============================] - 4s 193ms/step - loss: 0.1436 - accuracy: 0.9694\n",
            "Epoch 65/100\n",
            "20/20 [==============================] - 4s 188ms/step - loss: 0.1408 - accuracy: 0.9694\n",
            "Epoch 66/100\n",
            "20/20 [==============================] - 4s 185ms/step - loss: 0.1336 - accuracy: 0.9694\n",
            "Epoch 67/100\n",
            "20/20 [==============================] - 4s 188ms/step - loss: 0.1376 - accuracy: 0.9694\n",
            "Epoch 68/100\n",
            "20/20 [==============================] - 4s 181ms/step - loss: 0.1355 - accuracy: 0.9694\n",
            "Epoch 69/100\n",
            "20/20 [==============================] - 4s 178ms/step - loss: 0.1354 - accuracy: 0.9694\n",
            "Epoch 70/100\n",
            "20/20 [==============================] - 4s 178ms/step - loss: 0.1376 - accuracy: 0.9694\n",
            "Epoch 71/100\n",
            "20/20 [==============================] - 4s 189ms/step - loss: 0.1401 - accuracy: 0.9694\n",
            "Epoch 72/100\n",
            "20/20 [==============================] - 4s 182ms/step - loss: 0.1360 - accuracy: 0.9694\n",
            "Epoch 73/100\n",
            "20/20 [==============================] - 4s 186ms/step - loss: 0.1412 - accuracy: 0.9694\n",
            "Epoch 74/100\n",
            "20/20 [==============================] - 4s 200ms/step - loss: 0.1405 - accuracy: 0.9694\n",
            "Epoch 75/100\n",
            "20/20 [==============================] - 4s 194ms/step - loss: 0.1339 - accuracy: 0.9694\n",
            "Epoch 76/100\n",
            "20/20 [==============================] - 4s 186ms/step - loss: 0.1343 - accuracy: 0.9694\n",
            "Epoch 77/100\n",
            "20/20 [==============================] - 4s 192ms/step - loss: 0.1393 - accuracy: 0.9694\n",
            "Epoch 78/100\n",
            "20/20 [==============================] - 4s 191ms/step - loss: 0.1469 - accuracy: 0.9694\n",
            "Epoch 79/100\n",
            "20/20 [==============================] - 4s 180ms/step - loss: 0.1384 - accuracy: 0.9694\n",
            "Epoch 80/100\n",
            "20/20 [==============================] - 4s 188ms/step - loss: 0.1410 - accuracy: 0.9694\n",
            "Epoch 81/100\n",
            "20/20 [==============================] - 4s 192ms/step - loss: 0.1396 - accuracy: 0.9694\n",
            "Epoch 82/100\n",
            "20/20 [==============================] - 4s 199ms/step - loss: 0.1387 - accuracy: 0.9694\n",
            "Epoch 83/100\n",
            "20/20 [==============================] - 4s 207ms/step - loss: 0.1434 - accuracy: 0.9694\n",
            "Epoch 84/100\n",
            "20/20 [==============================] - 4s 226ms/step - loss: 0.1356 - accuracy: 0.9694\n",
            "Epoch 85/100\n",
            "20/20 [==============================] - 4s 217ms/step - loss: 0.1382 - accuracy: 0.9694\n",
            "Epoch 86/100\n",
            "20/20 [==============================] - 4s 202ms/step - loss: 0.1406 - accuracy: 0.9694\n",
            "Epoch 87/100\n",
            "20/20 [==============================] - 4s 220ms/step - loss: 0.1307 - accuracy: 0.9694\n",
            "Epoch 88/100\n",
            "20/20 [==============================] - 4s 226ms/step - loss: 0.1367 - accuracy: 0.9694\n",
            "Epoch 89/100\n",
            "20/20 [==============================] - 5s 227ms/step - loss: 0.1361 - accuracy: 0.9694\n",
            "Epoch 90/100\n",
            "20/20 [==============================] - 4s 218ms/step - loss: 0.1401 - accuracy: 0.9694\n",
            "Epoch 91/100\n",
            "20/20 [==============================] - 5s 226ms/step - loss: 0.1380 - accuracy: 0.9694\n",
            "Epoch 92/100\n",
            "20/20 [==============================] - 4s 220ms/step - loss: 0.1369 - accuracy: 0.9694\n",
            "Epoch 93/100\n",
            "20/20 [==============================] - 4s 207ms/step - loss: 0.1356 - accuracy: 0.9694\n",
            "Epoch 94/100\n",
            "20/20 [==============================] - 4s 189ms/step - loss: 0.1374 - accuracy: 0.9694\n",
            "Epoch 95/100\n",
            "20/20 [==============================] - 4s 204ms/step - loss: 0.1372 - accuracy: 0.9694\n",
            "Epoch 96/100\n",
            "20/20 [==============================] - 4s 212ms/step - loss: 0.1366 - accuracy: 0.9694\n",
            "Epoch 97/100\n",
            "20/20 [==============================] - 5s 229ms/step - loss: 0.1395 - accuracy: 0.9694\n",
            "Epoch 98/100\n",
            "20/20 [==============================] - 5s 228ms/step - loss: 0.1392 - accuracy: 0.9694\n",
            "Epoch 99/100\n",
            "20/20 [==============================] - 5s 240ms/step - loss: 0.1308 - accuracy: 0.9694\n",
            "Epoch 100/100\n",
            "20/20 [==============================] - 5s 259ms/step - loss: 0.1369 - accuracy: 0.9694\n",
            "Acuracy:  0.9767441860465116\n",
            "Precision: 0.9767441860465116\n",
            "Rock curve:  0.5\n",
            "F1-Score:  0.988235294117647\n"
          ]
        }
      ],
      "source": [
        "predictionsSF = []\n",
        "rnnsF = Sequential([LSTM(units = 750, return_sequences=True, input_shape = (xtrainSF.shape[1],1), activation= 'relu'), Dense(units= 2000),\n",
        "                    LSTM(units = 250, return_sequences=True, activation='tanh'), Dropout(0.7),SimpleRNN(units = 100, return_sequences=True, activation = 'relu'),\n",
        "                    Dropout(0.3), GRU(units = 50, activation='tanh'),Dense(25) , Dense(1, activation = 'sigmoid')]) #Si se elimina la capa Softmax tiene un comportameitno de reaprendizaje, hacer pooling de maximum value \n",
        "loss_function = tf.keras.losses.BinaryCrossentropy()\n",
        "rnnsF.compile(optimizer='Adam', loss= loss_function, metrics=['accuracy'])\n",
        "rnnsF.fit(xtrainSF,ytrainSF,epochs= 100, batch_size=5)\n",
        "xtestSF = np.reshape(xtestSF, (xtestSF.shape[0], xtestSF.shape[1],1))\n",
        "ypredSF = rnnsF.predict(xtestSF)\n",
        "for prediction in ypredSF:\n",
        "    prediction = int(np.round(prediction))\n",
        "    predictionsSF.append(prediction)\n",
        "print('Acuracy: ', metrics.accuracy_score(ytestSF, predictionsSF))\n",
        "print(\"Precision:\",metrics.precision_score(ytestSF, predictionsSF))\n",
        "print('Rock curve: ', metrics.roc_auc_score(ytestSF, predictionsSF))\n",
        "print('F1-Score: ', metrics.f1_score(ytestSF,predictionsSF))"
      ]
    },
    {
      "cell_type": "code",
      "execution_count": 630,
      "metadata": {},
      "outputs": [
        {
          "data": {
            "text/plain": [
              "Text(0.5, 1.0, 'Valors predichos vs reales en GRU para habilidades blandas')"
            ]
          },
          "execution_count": 630,
          "metadata": {},
          "output_type": "execute_result"
        },
        {
          "data": {
            "image/png": "[encoded data removed]",
            "text/plain": [
              "<Figure size 432x288 with 1 Axes>"
            ]
          },
          "metadata": {},
          "output_type": "display_data"
        }
      ],
      "source": [
        "X = np.linspace(0,1,43)\n",
        "plt.scatter(X, ytestSF, c = 'green')\n",
        "plt.plot(X,predictionsSF, '--', c = 'yellow')\n",
        "plt.ylabel('Valor predicho')\n",
        "plt.legend(['Valores reales', 'Valores predichos GRU'])\n",
        "plt.title('Valors predichos vs reales en GRU para habilidades blandas')"
      ]
    },
    {
      "cell_type": "markdown",
      "metadata": {},
      "source": [
        "### **Data Scientist Classifier**"
      ]
    },
    {
      "cell_type": "code",
      "execution_count": 12,
      "metadata": {},
      "outputs": [],
      "source": [
        "categoryListDSC = ['Experience', 'Time experience', 'Education Level',\n",
        "       'Education Profile', 'English', 'Second Language', 'Third Language',\n",
        "       'Microsoft Office', 'General Purpose Programming Skills',\n",
        "       'Database management', 'Backend skills', 'Data visualization tools',\n",
        "       'Cloud platforms', 'Machine Learning tools', 'Version control',\n",
        "       'Deep Learning tools', 'Geografic information systems',\n",
        "       'Data collection', 'Transforming data', 'Statistics',\n",
        "       'Solution Architecture']\n",
        "JobDSC = ProfileDSC.Job\n",
        "CategoriesDSC = ProfileDSC[categoryListDSC]"
      ]
    },
    {
      "cell_type": "code",
      "execution_count": 192,
      "metadata": {},
      "outputs": [
        {
          "name": "stdout",
          "output_type": "stream",
          "text": [
            "Acuracy:  0.967741935483871\n",
            "Precision: 0.9836065573770492\n",
            "Rock curve:  0.4918032786885246\n",
            "F1-Score:  0.9836065573770492\n"
          ]
        }
      ],
      "source": [
        "from sklearn.naive_bayes import MultinomialNB\n",
        "xtrain, xtest, ytrain, ytest = train_test_split(CategoriesDSC, JobDSC, test_size= 0.38, shuffle=True)\n",
        "nb = MultinomialNB()\n",
        "nb.fit(xtrain,ytrain)\n",
        "ypredDSC = nb.predict(xtest)\n",
        "print('Acuracy: ', metrics.accuracy_score(ytest, ypredDSC))\n",
        "print(\"Precision:\",metrics.precision_score(ytest, ypredDSC))\n",
        "print('Rock curve: ', metrics.roc_auc_score(ytest,ypredDSC))\n",
        "print('F1-Score: ', metrics.f1_score(ytest, ypredDSC))"
      ]
    },
    {
      "cell_type": "markdown",
      "metadata": {},
      "source": [
        "#### **GRU NN Data Scientist**"
      ]
    },
    {
      "cell_type": "code",
      "execution_count": 196,
      "metadata": {},
      "outputs": [],
      "source": [
        "import numpy as np \n",
        "import pandas as pd\n",
        "import matplotlib.pyplot as plt \n",
        "JobDSC = np.array(JobDSC)\n",
        "CategoriesDSC = np.array(CategoriesDSC)\n",
        "#Spliteo\n",
        "xtrainDSC, xtestDSC, ytrainDSC, ytestDSC = train_test_split(CategoriesDSC, JobDSC, test_size= 0.3, shuffle=True)"
      ]
    },
    {
      "cell_type": "code",
      "execution_count": 198,
      "metadata": {},
      "outputs": [
        {
          "name": "stdout",
          "output_type": "stream",
          "text": [
            "Epoch 1/10\n",
            "23/23 [==============================] - 9s 150ms/step - loss: 0.7276 - accuracy: 0.5714\n",
            "Epoch 2/10\n",
            "23/23 [==============================] - 4s 153ms/step - loss: 0.5770 - accuracy: 0.6429\n",
            "Epoch 3/10\n",
            "23/23 [==============================] - 3s 146ms/step - loss: 0.4501 - accuracy: 0.9018\n",
            "Epoch 4/10\n",
            "23/23 [==============================] - 4s 163ms/step - loss: 0.3698 - accuracy: 0.9554\n",
            "Epoch 5/10\n",
            "23/23 [==============================] - 4s 173ms/step - loss: 0.2884 - accuracy: 0.9554\n",
            "Epoch 6/10\n",
            "23/23 [==============================] - 4s 157ms/step - loss: 0.2654 - accuracy: 0.9643\n",
            "Epoch 7/10\n",
            "23/23 [==============================] - 4s 160ms/step - loss: 0.2098 - accuracy: 0.9643\n",
            "Epoch 8/10\n",
            "23/23 [==============================] - 4s 154ms/step - loss: 0.2219 - accuracy: 0.9643\n",
            "Epoch 9/10\n",
            "23/23 [==============================] - 4s 157ms/step - loss: 0.1783 - accuracy: 0.9643\n",
            "Epoch 10/10\n",
            "23/23 [==============================] - 4s 160ms/step - loss: 0.1748 - accuracy: 0.9643\n",
            "Model: \"sequential_36\"\n",
            "_________________________________________________________________\n",
            " Layer (type)                Output Shape              Param #   \n",
            "=================================================================\n",
            " lstm_74 (LSTM)              (None, 21, 500)           1004000   \n",
            "                                                                 \n",
            " dense_110 (Dense)           (None, 21, 1000)          501000    \n",
            "                                                                 \n",
            " batch_normalization_47 (Bat  (None, 21, 1000)         4000      \n",
            " chNormalization)                                                \n",
            "                                                                 \n",
            " lstm_75 (LSTM)              (None, 21, 250)           1251000   \n",
            "                                                                 \n",
            " dropout_74 (Dropout)        (None, 21, 250)           0         \n",
            "                                                                 \n",
            " simple_rnn_37 (SimpleRNN)   (None, 21, 1000)          1251000   \n",
            "                                                                 \n",
            " dropout_75 (Dropout)        (None, 21, 1000)          0         \n",
            "                                                                 \n",
            " gru_37 (GRU)                (None, 100)               330600    \n",
            "                                                                 \n",
            " dense_111 (Dense)           (None, 100)               10100     \n",
            "                                                                 \n",
            " batch_normalization_48 (Bat  (None, 100)              400       \n",
            " chNormalization)                                                \n",
            "                                                                 \n",
            " dense_112 (Dense)           (None, 1)                 101       \n",
            "                                                                 \n",
            "=================================================================\n",
            "Total params: 4,352,201\n",
            "Trainable params: 4,350,001\n",
            "Non-trainable params: 2,200\n",
            "_________________________________________________________________\n"
          ]
        }
      ],
      "source": [
        "#Modelo GRU\n",
        "#Reshape para poder dar forma de entrada y porque originalmente era un serie de dataframe \n",
        "xtrainDSC = np.reshape(xtrainDSC, (xtrainDSC.shape[0], xtrainDSC.shape[1],1))\n",
        "rnn = Sequential([LSTM(units = 500, return_sequences=True, input_shape = (xtrainDSC.shape[1],1), activation= 'relu'), Dense(units= 1000),\n",
        "                    BatchNormalization(), LSTM(units = 250, return_sequences=True, activation='tanh'), Dropout(0.7),SimpleRNN(units = 1000, return_sequences=True, activation = 'relu'),\n",
        "                    Dropout(0.3), GRU(units = 100, activation='tanh'),Dense(100, activation = 'relu') , BatchNormalization(), Dense(1, activation= 'sigmoid')]) #Si se elimina la capa Softmax tiene un comportameitno de reaprendizaje, hacer pooling de maximum value \n",
        "loss_function = tf.keras.losses.BinaryCrossentropy()\n",
        "rnn.compile(optimizer='Adam', loss= loss_function, metrics=['accuracy'])\n",
        "rnn.fit(xtrainDSC,ytrainDSC,epochs= 10, batch_size= 5)\n",
        "rnn.summary()\n",
        "xtestDSC = np.reshape(xtestDSC, (xtestDSC.shape[0], xtrainDSC.shape[1],1))\n",
        "ypredDSC = rnn.predict(xtestDSC)\n",
        "predictionsDSC = []\n",
        "for i in ypredDSC:\n",
        "    prediction = int(np.round(i))\n",
        "    predictions.append(prediction)\n"
      ]
    },
    {
      "cell_type": "code",
      "execution_count": 199,
      "metadata": {},
      "outputs": [
        {
          "name": "stdout",
          "output_type": "stream",
          "text": [
            "Acuracy:  0.9795918367346939\n",
            "Precision: 0.9795918367346939\n",
            "Rock curve:  0.5\n",
            "F1-Score:  0.9896907216494846\n",
            "confusion matrix\n",
            "[[48  1]\n",
            " [ 0  0]]\n",
            "sensitivity is %f 1.0\n",
            "specificity is %f 0.0\n",
            "accuracy is %f 0.9795918367346939\n",
            "balanced accuracy is % 0.5\n"
          ]
        }
      ],
      "source": [
        "predictionsDSC = []\n",
        "for i in ypredDSC:\n",
        "    prediction = int(np.round(i))\n",
        "    predictionsDSC.append(prediction)\n",
        "print('Acuracy: ', metrics.accuracy_score(ytestDSC, predictionsDSC))\n",
        "print(\"Precision:\",metrics.precision_score(ytestDSC, predictionsDSC))\n",
        "print('Rock curve: ', metrics.roc_auc_score(ytestDSC, predictionsDSC))\n",
        "print('F1-Score: ', metrics.f1_score(ytestDSC, predictionsDSC))\n",
        "display_summary(ytestDSC, predictionsDSC)"
      ]
    },
    {
      "cell_type": "code",
      "execution_count": 200,
      "metadata": {},
      "outputs": [
        {
          "name": "stdout",
          "output_type": "stream",
          "text": [
            "Confussion matrix:  [[ 0  1]\n",
            " [ 0 48]]\n",
            "Sensitivity:  1.0\n",
            "Kappa:  0.0\n"
          ]
        }
      ],
      "source": [
        "#confussion matrix \n",
        "print('Confussion matrix: ', metrics.confusion_matrix(ytestDSC, predictionsDSC))\n",
        "print('Sensitivity: ', metrics.recall_score(ytestDSC, predictionsDSC))\n",
        "print('Kappa: ', metrics.cohen_kappa_score(ytestDSC, predictionsDSC))\n"
      ]
    },
    {
      "cell_type": "code",
      "execution_count": 201,
      "metadata": {},
      "outputs": [
        {
          "name": "stdout",
          "output_type": "stream",
          "text": [
            "Acuracy:  0.9795918367346939\n",
            "Precision: 0.9795918367346939\n",
            "Rock curve:  0.5\n",
            "F1-Score:  0.9896907216494846\n",
            "Confussion matrix:  [[ 0  1]\n",
            " [ 0 48]]\n",
            "Sensitivity:  1.0\n",
            "Kappa:  0.0\n"
          ]
        }
      ],
      "source": [
        "from sklearn import metrics\n",
        "xtrainDSC, xtestDSC, ytrainDSC, ytestDSC = train_test_split(CategoriesDSC, JobDSC, test_size= 0.3, shuffle=True)\n",
        "#Creacion de modelo\n",
        "rf = RandomForestClassifier(n_estimators = 300) #En general depende de mucho del split de los datos, sin embargo con más de 50 estimadores la rock curve alcanza un mínimo de 0.625, teniendo en su mayoría resultados de 1 y 0.98\n",
        "#fit \n",
        "rf.fit(xtrainDSC, ytrainDSC)\n",
        "#predicciones \n",
        "ypredDSC = rf.predict(xtestDSC)\n",
        "#Métricas \n",
        "print('Acuracy: ', metrics.accuracy_score(ytestDSC, ypredDSC))\n",
        "print(\"Precision:\",metrics.precision_score(ytestDSC, ypredDSC))\n",
        "print('Rock curve: ', metrics.roc_auc_score(ytestDSC,ypredDSC))\n",
        "print('F1-Score: ', metrics.f1_score(ytestDSC,ypredDSC))\n",
        "#confussion matrix \n",
        "print('Confussion matrix: ', metrics.confusion_matrix(ytestDSC, predictionsDSC))\n",
        "print('Sensitivity: ', metrics.recall_score(ytestDSC, ypredDSC))\n",
        "print('Kappa: ', metrics.cohen_kappa_score(ytestDSC, ypredDSC))"
      ]
    },
    {
      "cell_type": "markdown",
      "metadata": {},
      "source": [
        "#### **Imbalanced data**"
      ]
    },
    {
      "cell_type": "code",
      "execution_count": 101,
      "metadata": {},
      "outputs": [
        {
          "name": "stdout",
          "output_type": "stream",
          "text": [
            "Acuracy:  0.9795918367346939\n",
            "Precision: 0.9795918367346939\n",
            "Rock curve:  0.5\n",
            "F1-Score:  0.9896907216494846\n",
            "Confussion matrix:  [[ 0  1]\n",
            " [ 0 48]]\n",
            "Sensitivity:  1.0\n",
            "Kappa:  0.0\n"
          ]
        }
      ],
      "source": [
        "from sklearn.linear_model import RidgeClassifier\n",
        "xtrainDSC, xtestDSC, ytrainDSC, ytestDSC = train_test_split(CategoriesDSC, JobDSC, test_size= 0.3, shuffle=True)\n",
        "#Creacion de modelo\n",
        "RidgeC = RidgeClassifier() #En general depende de mucho del split de los datos, sin embargo con más de 50 estimadores la rock curve alcanza un mínimo de 0.625, teniendo en su mayoría resultados de 1 y 0.98\n",
        "#fit \n",
        "RidgeC.fit(xtrainDSC, ytrainDSC)\n",
        "#predicciones \n",
        "ypredDSC = RidgeC.predict(xtestDSC)\n",
        "#Métricas \n",
        "print('Acuracy: ', metrics.accuracy_score(ytestDSC, ypredDSC))\n",
        "print(\"Precision:\",metrics.precision_score(ytestDSC, ypredDSC))\n",
        "print('Rock curve: ', metrics.roc_auc_score(ytestDSC,ypredDSC))\n",
        "print('F1-Score: ', metrics.f1_score(ytestDSC,ypredDSC))\n",
        "print('Confussion matrix: ', metrics.confusion_matrix(ytestDSC, predictionsDSC))\n",
        "print('Sensitivity: ', metrics.recall_score(ytestDSC, ypredDSC))\n",
        "print('Kappa: ', metrics.cohen_kappa_score(ytestDSC, ypredDSC))"
      ]
    },
    {
      "cell_type": "code",
      "execution_count": 142,
      "metadata": {},
      "outputs": [],
      "source": [
        "def display_summary(true,pred):\n",
        "    tn, fp, fn, tp = confusion_matrix(true,pred).ravel()\n",
        "    print('confusion matrix')\n",
        "    print(np.array([[tp,fp],[fn,tn]]))\n",
        "    print('sensitivity is %f',1.*tp/(tp+fn))\n",
        "    print('specificity is %f',1.*tn/(tn+fp))\n",
        "    print('accuracy is %f',1.*(tp+tn)/(tp+tn+fp+fn))\n",
        "    print('balanced accuracy is %',1./2*(1.*tp/(tp+fn)+1.*tn/(tn+fp)))"
      ]
    },
    {
      "cell_type": "code",
      "execution_count": 216,
      "metadata": {},
      "outputs": [
        {
          "name": "stdout",
          "output_type": "stream",
          "text": [
            "Acuracy:  0.967741935483871\n",
            "Precision: 0.967741935483871\n",
            "Rock curve:  0.5\n",
            "F1-Score:  0.9836065573770492\n",
            "Confussion matrix:  [[ 0  2]\n",
            " [ 0 60]]\n",
            "Sensitivity:  1.0\n",
            "Kappa:  0.0\n"
          ]
        }
      ],
      "source": [
        "from sklearn import metrics\n",
        "#Spliteo de datos\n",
        "xtrainDSC, xtestDSC, ytrainDSC, ytestDSC = train_test_split(CategoriesDSC, JobDSC, test_size= 0.38, shuffle=True)\n",
        "#Creacion de modelo\n",
        "rf = RandomForestClassifier(n_estimators = 2000, criterion= 'gini' , min_samples_split= 1000, min_samples_leaf=150) #En general depende de mucho del split de los datos, sin embargo con más de 50 estimadores la rock curve alcanza un mínimo de 0.625, teniendo en su mayoría resultados de 1 y 0.98\n",
        "#fit \n",
        "rf.fit(xtrainDSC, ytrainDSC)\n",
        "#predicciones \n",
        "ypredDSC = rf.predict(xtestDSC)\n",
        "#Métricas \n",
        "print('Acuracy: ', metrics.accuracy_score(ytestDSC, ypred))\n",
        "print(\"Precision:\",metrics.precision_score(ytestDSC, ypred))\n",
        "print('Rock curve: ', metrics.roc_auc_score(ytestDSC,ypred))\n",
        "print('F1-Score: ', metrics.f1_score(ytestDSC,ypred))\n",
        "print('Confussion matrix: ', metrics.confusion_matrix(ytestDSC, ypred))\n",
        "print('Sensitivity: ', metrics.recall_score(ytestDSC, ypred))\n",
        "print('Kappa: ', metrics.cohen_kappa_score(ytestDSC, ypred))"
      ]
    },
    {
      "cell_type": "code",
      "execution_count": 73,
      "metadata": {},
      "outputs": [],
      "source": [
        "xtrainDSC = np.reshape(xtrainDSC, (xtrainDSC.shape[0], xtrainDSC.shape[1],1))\n",
        "def RNNDataScience():\n",
        "    rnn = Sequential([LSTM(units = 750, return_sequences=True, input_shape = (xtrainDSC.shape[1],1), activation= 'relu'), Dense(units= 2000),\n",
        "                    BatchNormalization(), LSTM(units = 250, return_sequences=True, activation='tanh'), Dropout(0.7),SimpleRNN(units = 100, return_sequences=True, activation = 'relu'),\n",
        "                    Dropout(0.3), GRU(units = 50, activation='tanh'),Dense(25) , BatchNormalization(), Dense(1, activation= 'sigmoid')]) #Si se elimina la capa Softmax tiene un comportameitno de reaprendizaje, hacer pooling de maximum value \n",
        "    loss_function = tf.keras.losses.BinaryCrossentropy()\n",
        "    rnn.compile(optimizer='Adam', loss= loss_function, metrics=['accuracy'])\n",
        "    return rnn"
      ]
    },
    {
      "cell_type": "code",
      "execution_count": 77,
      "metadata": {},
      "outputs": [
        {
          "name": "stderr",
          "output_type": "stream",
          "text": [
            "C:\\Users\\Fernando.DESKTOP-608G9HT\\AppData\\Local\\Temp/ipykernel_21524/1494740822.py:5: DeprecationWarning: KerasClassifier is deprecated, use Sci-Keras (https://github.com/adriangb/scikeras) instead. See https://www.adriangb.com/scikeras/stable/migration.html for help migrating.\n",
            "  estimator = KerasClassifier(build_fn= RNNDataScience, epochs=20, batch_size=5, verbose=0)\n"
          ]
        },
        {
          "name": "stdout",
          "output_type": "stream",
          "text": [
            "WARNING:tensorflow:5 out of the last 5 calls to <function Model.make_test_function.<locals>.test_function at 0x0000019B96BB65E0> triggered tf.function retracing. Tracing is expensive and the excessive number of tracings could be due to (1) creating @tf.function repeatedly in a loop, (2) passing tensors with different shapes, (3) passing Python objects instead of tensors. For (1), please define your @tf.function outside of the loop. For (2), @tf.function has experimental_relax_shapes=True option that relaxes argument shapes that can avoid unnecessary retracing. For (3), please refer to https://www.tensorflow.org/guide/function#controlling_retracing and https://www.tensorflow.org/api_docs/python/tf/function for  more details.\n",
            "WARNING:tensorflow:5 out of the last 11 calls to <function Model.make_test_function.<locals>.test_function at 0x0000019BA19804C0> triggered tf.function retracing. Tracing is expensive and the excessive number of tracings could be due to (1) creating @tf.function repeatedly in a loop, (2) passing tensors with different shapes, (3) passing Python objects instead of tensors. For (1), please define your @tf.function outside of the loop. For (2), @tf.function has experimental_relax_shapes=True option that relaxes argument shapes that can avoid unnecessary retracing. For (3), please refer to https://www.tensorflow.org/guide/function#controlling_retracing and https://www.tensorflow.org/api_docs/python/tf/function for  more details.\n",
            "RNN: 96.89% (0.04%)\n"
          ]
        }
      ],
      "source": [
        "# evaluate model with standardized dataset\n",
        "from keras.wrappers.scikit_learn import KerasClassifier\n",
        "from sklearn.model_selection import cross_val_score\n",
        "from sklearn.model_selection import StratifiedKFold\n",
        "estimator = KerasClassifier(build_fn= RNNDataScience, epochs=20, batch_size=5, verbose=0)\n",
        "kfold = StratifiedKFold(n_splits=5, shuffle=True)\n",
        "results = cross_val_score(estimator, CategoriesDSC, JobDSC, cv=kfold)\n",
        "print(\"RNN: %.2f%% (%.2f%%)\" % (results.mean()*100, results.std()*100))"
      ]
    }
  ],
  "metadata": {
    "colab": {
      "collapsed_sections": [],
      "name": "LimpiezaDeDatos.ipynb",
      "provenance": []
    },
    "kernelspec": {
      "display_name": "Python 3.10.4 64-bit",
      "language": "python",
      "name": "python3"
    },
    "language_info": {
      "codemirror_mode": {
        "name": "ipython",
        "version": 3
      },
      "file_extension": ".py",
      "mimetype": "text/x-python",
      "name": "python",
      "nbconvert_exporter": "python",
      "pygments_lexer": "ipython3",
      "version": "3.10.5"
    },
    "vscode": {
      "interpreter": {
        "hash": "5b9975b660af2a25f791a79051a557d7e94d9c8d693a463bac67cc37254412e0"
      }
    }
  },
  "nbformat": 4,
  "nbformat_minor": 0
}
